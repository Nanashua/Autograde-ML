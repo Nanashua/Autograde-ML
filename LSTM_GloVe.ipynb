{
  "nbformat": 4,
  "nbformat_minor": 0,
  "metadata": {
    "colab": {
      "provenance": [],
      "collapsed_sections": [
        "uVxUGT-S6UnY",
        "e5Z5-Fg15Il9",
        "vcLY9uW5_9zt",
        "Hf0LEQ6C8_Qi",
        "x-zS1MxREjrj",
        "69jmhUoX9w3Y",
        "5Zma_sZL7cH8",
        "hN94EtSW06Tq"
      ],
      "gpuType": "T4"
    },
    "kernelspec": {
      "name": "python3",
      "display_name": "Python 3"
    },
    "language_info": {
      "name": "python"
    },
    "accelerator": "GPU"
  },
  "cells": [
    {
      "cell_type": "markdown",
      "source": [
        "Struktur Data\n",
        "\n",
        "premise: Kalimat premis.\n",
        "\n",
        "hypothesis: Kalimat hipotesis.\n",
        "\n",
        "label: Label hubungan antara premis dan hipotesis:\n",
        "\n",
        "0: Entailment\n",
        "\n",
        "1: Contradiction\n",
        "\n",
        "2: Neutral"
      ],
      "metadata": {
        "id": "_YgrCAVSuq6d"
      }
    },
    {
      "cell_type": "markdown",
      "source": [
        "**Dataset Train:**\n",
        "\n",
        "Dataset ini digunakan untuk melatih model. Model akan belajar dari data ini dengan mencari pola dan hubungan antar fitur (variabel) dan target (label). Proses ini melibatkan penyesuaian parameter model agar dapat memprediksi output dengan baik.\n",
        "\n",
        "**Dataset Validation:**\n",
        "\n",
        "Dataset ini digunakan untuk mengoptimalkan model selama proses pelatihan. Setelah model dilatih dengan dataset train, dataset validation digunakan untuk mengevaluasi kinerja model. Dengan menggunakan data ini, Anda dapat melakukan hyperparameter tuning, memilih model terbaik, dan mencegah overfitting (ketika model terlalu cocok dengan data train sehingga kinerjanya buruk pada data baru).\n",
        "\n",
        "**Dataset Test:**\n",
        "\n",
        "Dataset ini digunakan untuk mengukur kinerja akhir dari model setelah selesai dilatih dan dioptimalkan. Dataset test berfungsi sebagai data yang tidak pernah dilihat oleh model sebelumnya, sehingga dapat memberikan gambaran yang lebih akurat tentang bagaimana model akan bekerja pada data baru di dunia nyata. Ini adalah langkah penting untuk memastikan bahwa model dapat"
      ],
      "metadata": {
        "id": "QnlcaFVG16ZT"
      }
    },
    {
      "cell_type": "code",
      "source": [
        "# +------------------+\n",
        "# |   Data Teks      |\n",
        "# | (premise +       |\n",
        "# |  hypothesis)     |\n",
        "# +--------+---------+\n",
        "#          |\n",
        "#          v\n",
        "# +------------------+\n",
        "# |  Tokenisasi dan  |\n",
        "# |  Padding         |\n",
        "# | (Mengonversi     |\n",
        "# |  teks menjadi    |\n",
        "# |  urutan angka)   |\n",
        "# +--------+---------+\n",
        "#          |\n",
        "#          v\n",
        "# +------------------+\n",
        "# |  Memuat GloVe    |\n",
        "# |  Embeddings      |\n",
        "# | (Vektor kata     |\n",
        "# |  dari file)      |\n",
        "# +--------+---------+\n",
        "#          |\n",
        "#          v\n",
        "# +------------------+\n",
        "# |  Matriks         |\n",
        "# |  Embedding       |\n",
        "# | (Menyusun        |\n",
        "# |  matriks dari    |\n",
        "# |  embeddings)     |\n",
        "# +--------+---------+\n",
        "#          |\n",
        "#          v\n",
        "# +------------------+\n",
        "# |  Label One-Hot   |\n",
        "# |  Encoding        |\n",
        "# | (Mengonversi     |\n",
        "# |  label ke format |\n",
        "# |  one-hot)        |\n",
        "# +--------+---------+\n",
        "#          |\n",
        "#          v\n",
        "# +------------------+\n",
        "# |  Membangun Model |\n",
        "# |  Encoder         |\n",
        "# | (Menambahkan     |\n",
        "# |  layer embedding,|\n",
        "# |  LSTM, dan Dense)|\n",
        "# +--------+---------+\n",
        "#          |\n",
        "#          v\n",
        "# +------------------+\n",
        "# |  Melatih Model   |\n",
        "# | (Menggunakan     |\n",
        "# |  data pelatihan) |\n",
        "# +--------+---------+\n",
        "#          |\n",
        "#          v\n",
        "# +------------------+\n",
        "# |  Evaluasi Model  |\n",
        "# | (Menggunakan     |\n",
        "# |  data uji)       |\n",
        "# +------------------+"
      ],
      "metadata": {
        "id": "Rxmkw1j2BIhq"
      },
      "execution_count": null,
      "outputs": []
    },
    {
      "cell_type": "markdown",
      "source": [
        "# DATASET"
      ],
      "metadata": {
        "id": "uVxUGT-S6UnY"
      }
    },
    {
      "cell_type": "markdown",
      "source": [
        "Penjelasan: Dataset SNLI (Stanford Natural Language Inference) dimuat menggunakan pustaka datasets dari Hugging Face. Dataset ini digunakan untuk tugas inferensi natural (NLI), dengan label:\n",
        "\n",
        "0: Entailment (premis menyiratkan hipotesis).\n",
        "\n",
        "1: Neutral (premis tidak menyiratkan atau bertentangan dengan hipotesis).\n",
        "\n",
        "2: Contradiction (premis bertentangan dengan hipotesis)."
      ],
      "metadata": {
        "id": "WB322_ZV6tl3"
      }
    },
    {
      "cell_type": "code",
      "execution_count": 1,
      "metadata": {
        "colab": {
          "base_uri": "https://localhost:8080/"
        },
        "id": "eGVh46Y4q022",
        "outputId": "a3c334b8-210e-412e-a6ad-f2f38e77e0e0"
      },
      "outputs": [
        {
          "output_type": "stream",
          "name": "stderr",
          "text": [
            "/usr/local/lib/python3.10/dist-packages/huggingface_hub/utils/_auth.py:94: UserWarning: \n",
            "The secret `HF_TOKEN` does not exist in your Colab secrets.\n",
            "To authenticate with the Hugging Face Hub, create a token in your settings tab (https://huggingface.co/settings/tokens), set it as secret in your Google Colab and restart your session.\n",
            "You will be able to reuse this secret in all of your notebooks.\n",
            "Please note that authentication is recommended but still optional to access public models or datasets.\n",
            "  warnings.warn(\n"
          ]
        }
      ],
      "source": [
        "import pandas as pd\n",
        "\n",
        "splits = {'test': 'plain_text/test-00000-of-00001.parquet', 'validation': 'plain_text/validation-00000-of-00001.parquet', 'train': 'plain_text/train-00000-of-00001.parquet'}\n",
        "datasets = pd.read_parquet(\"hf://datasets/stanfordnlp/snli/\" + splits[\"test\"])"
      ]
    },
    {
      "cell_type": "code",
      "source": [
        "!pip install datasets"
      ],
      "metadata": {
        "colab": {
          "base_uri": "https://localhost:8080/"
        },
        "id": "Ou0IfadNtZ3L",
        "outputId": "a4816439-93a4-448f-a152-fd67cd2c3892"
      },
      "execution_count": 2,
      "outputs": [
        {
          "output_type": "stream",
          "name": "stdout",
          "text": [
            "Requirement already satisfied: datasets in /usr/local/lib/python3.10/dist-packages (3.1.0)\n",
            "Requirement already satisfied: filelock in /usr/local/lib/python3.10/dist-packages (from datasets) (3.16.1)\n",
            "Requirement already satisfied: numpy>=1.17 in /usr/local/lib/python3.10/dist-packages (from datasets) (1.26.4)\n",
            "Requirement already satisfied: pyarrow>=15.0.0 in /usr/local/lib/python3.10/dist-packages (from datasets) (17.0.0)\n",
            "Requirement already satisfied: dill<0.3.9,>=0.3.0 in /usr/local/lib/python3.10/dist-packages (from datasets) (0.3.8)\n",
            "Requirement already satisfied: pandas in /usr/local/lib/python3.10/dist-packages (from datasets) (2.2.2)\n",
            "Requirement already satisfied: requests>=2.32.2 in /usr/local/lib/python3.10/dist-packages (from datasets) (2.32.3)\n",
            "Requirement already satisfied: tqdm>=4.66.3 in /usr/local/lib/python3.10/dist-packages (from datasets) (4.66.6)\n",
            "Requirement already satisfied: xxhash in /usr/local/lib/python3.10/dist-packages (from datasets) (3.5.0)\n",
            "Requirement already satisfied: multiprocess<0.70.17 in /usr/local/lib/python3.10/dist-packages (from datasets) (0.70.16)\n",
            "Requirement already satisfied: fsspec<=2024.9.0,>=2023.1.0 in /usr/local/lib/python3.10/dist-packages (from fsspec[http]<=2024.9.0,>=2023.1.0->datasets) (2024.9.0)\n",
            "Requirement already satisfied: aiohttp in /usr/local/lib/python3.10/dist-packages (from datasets) (3.11.2)\n",
            "Requirement already satisfied: huggingface-hub>=0.23.0 in /usr/local/lib/python3.10/dist-packages (from datasets) (0.26.2)\n",
            "Requirement already satisfied: packaging in /usr/local/lib/python3.10/dist-packages (from datasets) (24.2)\n",
            "Requirement already satisfied: pyyaml>=5.1 in /usr/local/lib/python3.10/dist-packages (from datasets) (6.0.2)\n",
            "Requirement already satisfied: aiohappyeyeballs>=2.3.0 in /usr/local/lib/python3.10/dist-packages (from aiohttp->datasets) (2.4.3)\n",
            "Requirement already satisfied: aiosignal>=1.1.2 in /usr/local/lib/python3.10/dist-packages (from aiohttp->datasets) (1.3.1)\n",
            "Requirement already satisfied: attrs>=17.3.0 in /usr/local/lib/python3.10/dist-packages (from aiohttp->datasets) (24.2.0)\n",
            "Requirement already satisfied: frozenlist>=1.1.1 in /usr/local/lib/python3.10/dist-packages (from aiohttp->datasets) (1.5.0)\n",
            "Requirement already satisfied: multidict<7.0,>=4.5 in /usr/local/lib/python3.10/dist-packages (from aiohttp->datasets) (6.1.0)\n",
            "Requirement already satisfied: propcache>=0.2.0 in /usr/local/lib/python3.10/dist-packages (from aiohttp->datasets) (0.2.0)\n",
            "Requirement already satisfied: yarl<2.0,>=1.17.0 in /usr/local/lib/python3.10/dist-packages (from aiohttp->datasets) (1.17.2)\n",
            "Requirement already satisfied: async-timeout<6.0,>=4.0 in /usr/local/lib/python3.10/dist-packages (from aiohttp->datasets) (4.0.3)\n",
            "Requirement already satisfied: typing-extensions>=3.7.4.3 in /usr/local/lib/python3.10/dist-packages (from huggingface-hub>=0.23.0->datasets) (4.12.2)\n",
            "Requirement already satisfied: charset-normalizer<4,>=2 in /usr/local/lib/python3.10/dist-packages (from requests>=2.32.2->datasets) (3.4.0)\n",
            "Requirement already satisfied: idna<4,>=2.5 in /usr/local/lib/python3.10/dist-packages (from requests>=2.32.2->datasets) (3.10)\n",
            "Requirement already satisfied: urllib3<3,>=1.21.1 in /usr/local/lib/python3.10/dist-packages (from requests>=2.32.2->datasets) (2.2.3)\n",
            "Requirement already satisfied: certifi>=2017.4.17 in /usr/local/lib/python3.10/dist-packages (from requests>=2.32.2->datasets) (2024.8.30)\n",
            "Requirement already satisfied: python-dateutil>=2.8.2 in /usr/local/lib/python3.10/dist-packages (from pandas->datasets) (2.8.2)\n",
            "Requirement already satisfied: pytz>=2020.1 in /usr/local/lib/python3.10/dist-packages (from pandas->datasets) (2024.2)\n",
            "Requirement already satisfied: tzdata>=2022.7 in /usr/local/lib/python3.10/dist-packages (from pandas->datasets) (2024.2)\n",
            "Requirement already satisfied: six>=1.5 in /usr/local/lib/python3.10/dist-packages (from python-dateutil>=2.8.2->pandas->datasets) (1.16.0)\n"
          ]
        }
      ]
    },
    {
      "cell_type": "code",
      "source": [
        "from datasets import load_dataset\n",
        "\n",
        "# Memuat dataset SNLI\n",
        "dataset = load_dataset(\"snli\")\n",
        "\n",
        "# Memisahkan data Data train, validation, dan test\n",
        "train_data = dataset['train']\n",
        "validation_data = dataset['validation']\n",
        "test_data = dataset['test']\n",
        "\n",
        "# Contoh tampilan data\n",
        "print(train_data[0])  # Menampilkan contoh data pertama dari train\n"
      ],
      "metadata": {
        "colab": {
          "base_uri": "https://localhost:8080/"
        },
        "id": "0D-HvEvfq-RY",
        "outputId": "e6d488e9-d8e9-4df5-dc04-d1e98522662a"
      },
      "execution_count": 3,
      "outputs": [
        {
          "output_type": "stream",
          "name": "stdout",
          "text": [
            "{'premise': 'A person on a horse jumps over a broken down airplane.', 'hypothesis': 'A person is training his horse for a competition.', 'label': 1}\n"
          ]
        }
      ]
    },
    {
      "cell_type": "markdown",
      "source": [
        "train_data: Untuk melatih model.\n",
        "\n",
        "validation_data: Untuk memantau performa model selama pelatihan.\n",
        "\n",
        "test_data: Untuk mengevaluasi model setelah pelatihan selesai."
      ],
      "metadata": {
        "id": "6bx4XHFQ7ZF4"
      }
    },
    {
      "cell_type": "code",
      "source": [
        "# Konversi split\n",
        "test_df = pd.DataFrame(test_data)\n",
        "train_df = pd.DataFrame(train_data)\n",
        "validation_df = pd.DataFrame(validation_data)\n"
      ],
      "metadata": {
        "id": "nWwb_ZH5toRD"
      },
      "execution_count": 4,
      "outputs": []
    },
    {
      "cell_type": "code",
      "source": [
        "test_df.head()"
      ],
      "metadata": {
        "colab": {
          "base_uri": "https://localhost:8080/",
          "height": 206
        },
        "id": "oiSG6wxzFeVD",
        "outputId": "0fe19ca0-0da5-4dab-f754-0bbaef2312be"
      },
      "execution_count": 5,
      "outputs": [
        {
          "output_type": "execute_result",
          "data": {
            "text/plain": [
              "                                             premise  \\\n",
              "0  This church choir sings to the masses as they ...   \n",
              "1  This church choir sings to the masses as they ...   \n",
              "2  This church choir sings to the masses as they ...   \n",
              "3  A woman with a green headscarf, blue shirt and...   \n",
              "4  A woman with a green headscarf, blue shirt and...   \n",
              "\n",
              "                              hypothesis  label  \n",
              "0  The church has cracks in the ceiling.      1  \n",
              "1        The church is filled with song.      0  \n",
              "2    A choir singing at a baseball game.      2  \n",
              "3                    The woman is young.      1  \n",
              "4               The woman is very happy.      0  "
            ],
            "text/html": [
              "\n",
              "  <div id=\"df-67e46892-7c8f-40b6-9f5a-bb942cb456f3\" class=\"colab-df-container\">\n",
              "    <div>\n",
              "<style scoped>\n",
              "    .dataframe tbody tr th:only-of-type {\n",
              "        vertical-align: middle;\n",
              "    }\n",
              "\n",
              "    .dataframe tbody tr th {\n",
              "        vertical-align: top;\n",
              "    }\n",
              "\n",
              "    .dataframe thead th {\n",
              "        text-align: right;\n",
              "    }\n",
              "</style>\n",
              "<table border=\"1\" class=\"dataframe\">\n",
              "  <thead>\n",
              "    <tr style=\"text-align: right;\">\n",
              "      <th></th>\n",
              "      <th>premise</th>\n",
              "      <th>hypothesis</th>\n",
              "      <th>label</th>\n",
              "    </tr>\n",
              "  </thead>\n",
              "  <tbody>\n",
              "    <tr>\n",
              "      <th>0</th>\n",
              "      <td>This church choir sings to the masses as they ...</td>\n",
              "      <td>The church has cracks in the ceiling.</td>\n",
              "      <td>1</td>\n",
              "    </tr>\n",
              "    <tr>\n",
              "      <th>1</th>\n",
              "      <td>This church choir sings to the masses as they ...</td>\n",
              "      <td>The church is filled with song.</td>\n",
              "      <td>0</td>\n",
              "    </tr>\n",
              "    <tr>\n",
              "      <th>2</th>\n",
              "      <td>This church choir sings to the masses as they ...</td>\n",
              "      <td>A choir singing at a baseball game.</td>\n",
              "      <td>2</td>\n",
              "    </tr>\n",
              "    <tr>\n",
              "      <th>3</th>\n",
              "      <td>A woman with a green headscarf, blue shirt and...</td>\n",
              "      <td>The woman is young.</td>\n",
              "      <td>1</td>\n",
              "    </tr>\n",
              "    <tr>\n",
              "      <th>4</th>\n",
              "      <td>A woman with a green headscarf, blue shirt and...</td>\n",
              "      <td>The woman is very happy.</td>\n",
              "      <td>0</td>\n",
              "    </tr>\n",
              "  </tbody>\n",
              "</table>\n",
              "</div>\n",
              "    <div class=\"colab-df-buttons\">\n",
              "\n",
              "  <div class=\"colab-df-container\">\n",
              "    <button class=\"colab-df-convert\" onclick=\"convertToInteractive('df-67e46892-7c8f-40b6-9f5a-bb942cb456f3')\"\n",
              "            title=\"Convert this dataframe to an interactive table.\"\n",
              "            style=\"display:none;\">\n",
              "\n",
              "  <svg xmlns=\"http://www.w3.org/2000/svg\" height=\"24px\" viewBox=\"0 -960 960 960\">\n",
              "    <path d=\"M120-120v-720h720v720H120Zm60-500h600v-160H180v160Zm220 220h160v-160H400v160Zm0 220h160v-160H400v160ZM180-400h160v-160H180v160Zm440 0h160v-160H620v160ZM180-180h160v-160H180v160Zm440 0h160v-160H620v160Z\"/>\n",
              "  </svg>\n",
              "    </button>\n",
              "\n",
              "  <style>\n",
              "    .colab-df-container {\n",
              "      display:flex;\n",
              "      gap: 12px;\n",
              "    }\n",
              "\n",
              "    .colab-df-convert {\n",
              "      background-color: #E8F0FE;\n",
              "      border: none;\n",
              "      border-radius: 50%;\n",
              "      cursor: pointer;\n",
              "      display: none;\n",
              "      fill: #1967D2;\n",
              "      height: 32px;\n",
              "      padding: 0 0 0 0;\n",
              "      width: 32px;\n",
              "    }\n",
              "\n",
              "    .colab-df-convert:hover {\n",
              "      background-color: #E2EBFA;\n",
              "      box-shadow: 0px 1px 2px rgba(60, 64, 67, 0.3), 0px 1px 3px 1px rgba(60, 64, 67, 0.15);\n",
              "      fill: #174EA6;\n",
              "    }\n",
              "\n",
              "    .colab-df-buttons div {\n",
              "      margin-bottom: 4px;\n",
              "    }\n",
              "\n",
              "    [theme=dark] .colab-df-convert {\n",
              "      background-color: #3B4455;\n",
              "      fill: #D2E3FC;\n",
              "    }\n",
              "\n",
              "    [theme=dark] .colab-df-convert:hover {\n",
              "      background-color: #434B5C;\n",
              "      box-shadow: 0px 1px 3px 1px rgba(0, 0, 0, 0.15);\n",
              "      filter: drop-shadow(0px 1px 2px rgba(0, 0, 0, 0.3));\n",
              "      fill: #FFFFFF;\n",
              "    }\n",
              "  </style>\n",
              "\n",
              "    <script>\n",
              "      const buttonEl =\n",
              "        document.querySelector('#df-67e46892-7c8f-40b6-9f5a-bb942cb456f3 button.colab-df-convert');\n",
              "      buttonEl.style.display =\n",
              "        google.colab.kernel.accessAllowed ? 'block' : 'none';\n",
              "\n",
              "      async function convertToInteractive(key) {\n",
              "        const element = document.querySelector('#df-67e46892-7c8f-40b6-9f5a-bb942cb456f3');\n",
              "        const dataTable =\n",
              "          await google.colab.kernel.invokeFunction('convertToInteractive',\n",
              "                                                    [key], {});\n",
              "        if (!dataTable) return;\n",
              "\n",
              "        const docLinkHtml = 'Like what you see? Visit the ' +\n",
              "          '<a target=\"_blank\" href=https://colab.research.google.com/notebooks/data_table.ipynb>data table notebook</a>'\n",
              "          + ' to learn more about interactive tables.';\n",
              "        element.innerHTML = '';\n",
              "        dataTable['output_type'] = 'display_data';\n",
              "        await google.colab.output.renderOutput(dataTable, element);\n",
              "        const docLink = document.createElement('div');\n",
              "        docLink.innerHTML = docLinkHtml;\n",
              "        element.appendChild(docLink);\n",
              "      }\n",
              "    </script>\n",
              "  </div>\n",
              "\n",
              "\n",
              "<div id=\"df-a99fc0ce-d63a-438b-9b53-3cc0360c8ec5\">\n",
              "  <button class=\"colab-df-quickchart\" onclick=\"quickchart('df-a99fc0ce-d63a-438b-9b53-3cc0360c8ec5')\"\n",
              "            title=\"Suggest charts\"\n",
              "            style=\"display:none;\">\n",
              "\n",
              "<svg xmlns=\"http://www.w3.org/2000/svg\" height=\"24px\"viewBox=\"0 0 24 24\"\n",
              "     width=\"24px\">\n",
              "    <g>\n",
              "        <path d=\"M19 3H5c-1.1 0-2 .9-2 2v14c0 1.1.9 2 2 2h14c1.1 0 2-.9 2-2V5c0-1.1-.9-2-2-2zM9 17H7v-7h2v7zm4 0h-2V7h2v10zm4 0h-2v-4h2v4z\"/>\n",
              "    </g>\n",
              "</svg>\n",
              "  </button>\n",
              "\n",
              "<style>\n",
              "  .colab-df-quickchart {\n",
              "      --bg-color: #E8F0FE;\n",
              "      --fill-color: #1967D2;\n",
              "      --hover-bg-color: #E2EBFA;\n",
              "      --hover-fill-color: #174EA6;\n",
              "      --disabled-fill-color: #AAA;\n",
              "      --disabled-bg-color: #DDD;\n",
              "  }\n",
              "\n",
              "  [theme=dark] .colab-df-quickchart {\n",
              "      --bg-color: #3B4455;\n",
              "      --fill-color: #D2E3FC;\n",
              "      --hover-bg-color: #434B5C;\n",
              "      --hover-fill-color: #FFFFFF;\n",
              "      --disabled-bg-color: #3B4455;\n",
              "      --disabled-fill-color: #666;\n",
              "  }\n",
              "\n",
              "  .colab-df-quickchart {\n",
              "    background-color: var(--bg-color);\n",
              "    border: none;\n",
              "    border-radius: 50%;\n",
              "    cursor: pointer;\n",
              "    display: none;\n",
              "    fill: var(--fill-color);\n",
              "    height: 32px;\n",
              "    padding: 0;\n",
              "    width: 32px;\n",
              "  }\n",
              "\n",
              "  .colab-df-quickchart:hover {\n",
              "    background-color: var(--hover-bg-color);\n",
              "    box-shadow: 0 1px 2px rgba(60, 64, 67, 0.3), 0 1px 3px 1px rgba(60, 64, 67, 0.15);\n",
              "    fill: var(--button-hover-fill-color);\n",
              "  }\n",
              "\n",
              "  .colab-df-quickchart-complete:disabled,\n",
              "  .colab-df-quickchart-complete:disabled:hover {\n",
              "    background-color: var(--disabled-bg-color);\n",
              "    fill: var(--disabled-fill-color);\n",
              "    box-shadow: none;\n",
              "  }\n",
              "\n",
              "  .colab-df-spinner {\n",
              "    border: 2px solid var(--fill-color);\n",
              "    border-color: transparent;\n",
              "    border-bottom-color: var(--fill-color);\n",
              "    animation:\n",
              "      spin 1s steps(1) infinite;\n",
              "  }\n",
              "\n",
              "  @keyframes spin {\n",
              "    0% {\n",
              "      border-color: transparent;\n",
              "      border-bottom-color: var(--fill-color);\n",
              "      border-left-color: var(--fill-color);\n",
              "    }\n",
              "    20% {\n",
              "      border-color: transparent;\n",
              "      border-left-color: var(--fill-color);\n",
              "      border-top-color: var(--fill-color);\n",
              "    }\n",
              "    30% {\n",
              "      border-color: transparent;\n",
              "      border-left-color: var(--fill-color);\n",
              "      border-top-color: var(--fill-color);\n",
              "      border-right-color: var(--fill-color);\n",
              "    }\n",
              "    40% {\n",
              "      border-color: transparent;\n",
              "      border-right-color: var(--fill-color);\n",
              "      border-top-color: var(--fill-color);\n",
              "    }\n",
              "    60% {\n",
              "      border-color: transparent;\n",
              "      border-right-color: var(--fill-color);\n",
              "    }\n",
              "    80% {\n",
              "      border-color: transparent;\n",
              "      border-right-color: var(--fill-color);\n",
              "      border-bottom-color: var(--fill-color);\n",
              "    }\n",
              "    90% {\n",
              "      border-color: transparent;\n",
              "      border-bottom-color: var(--fill-color);\n",
              "    }\n",
              "  }\n",
              "</style>\n",
              "\n",
              "  <script>\n",
              "    async function quickchart(key) {\n",
              "      const quickchartButtonEl =\n",
              "        document.querySelector('#' + key + ' button');\n",
              "      quickchartButtonEl.disabled = true;  // To prevent multiple clicks.\n",
              "      quickchartButtonEl.classList.add('colab-df-spinner');\n",
              "      try {\n",
              "        const charts = await google.colab.kernel.invokeFunction(\n",
              "            'suggestCharts', [key], {});\n",
              "      } catch (error) {\n",
              "        console.error('Error during call to suggestCharts:', error);\n",
              "      }\n",
              "      quickchartButtonEl.classList.remove('colab-df-spinner');\n",
              "      quickchartButtonEl.classList.add('colab-df-quickchart-complete');\n",
              "    }\n",
              "    (() => {\n",
              "      let quickchartButtonEl =\n",
              "        document.querySelector('#df-a99fc0ce-d63a-438b-9b53-3cc0360c8ec5 button');\n",
              "      quickchartButtonEl.style.display =\n",
              "        google.colab.kernel.accessAllowed ? 'block' : 'none';\n",
              "    })();\n",
              "  </script>\n",
              "</div>\n",
              "\n",
              "    </div>\n",
              "  </div>\n"
            ],
            "application/vnd.google.colaboratory.intrinsic+json": {
              "type": "dataframe",
              "variable_name": "test_df",
              "summary": "{\n  \"name\": \"test_df\",\n  \"rows\": 10000,\n  \"fields\": [\n    {\n      \"column\": \"premise\",\n      \"properties\": {\n        \"dtype\": \"category\",\n        \"num_unique_values\": 3323,\n        \"samples\": [\n          \"Several people including a child and a clown are walking towards a snowy sidewalk\",\n          \"A man in a white and gray shirt looks on as a shirtless man with a mustache cleans fish on a pale green table.\",\n          \"A guy in a blue shirt chases a guy in an orange shirt during a game of flag football.\"\n        ],\n        \"semantic_type\": \"\",\n        \"description\": \"\"\n      }\n    },\n    {\n      \"column\": \"hypothesis\",\n      \"properties\": {\n        \"dtype\": \"string\",\n        \"num_unique_values\": 9810,\n        \"samples\": [\n          \"A stray dog walking out of the subway tunnel.\",\n          \"two women walk to work\",\n          \"The man has nothing on his face.\"\n        ],\n        \"semantic_type\": \"\",\n        \"description\": \"\"\n      }\n    },\n    {\n      \"column\": \"label\",\n      \"properties\": {\n        \"dtype\": \"number\",\n        \"std\": 0,\n        \"min\": -1,\n        \"max\": 2,\n        \"num_unique_values\": 4,\n        \"samples\": [\n          0,\n          -1,\n          1\n        ],\n        \"semantic_type\": \"\",\n        \"description\": \"\"\n      }\n    }\n  ]\n}"
            }
          },
          "metadata": {},
          "execution_count": 5
        }
      ]
    },
    {
      "cell_type": "markdown",
      "source": [
        "# Pre-processing"
      ],
      "metadata": {
        "id": "ty2x-rR1quh6"
      }
    },
    {
      "cell_type": "markdown",
      "source": [
        "**Mengganti tanda baca:** Menghapus atau mengganti tanda baca yang tidak diperlukan.\n",
        "\n",
        "**Menurunkan huruf besar ke huruf kecil:** **bold text** Untuk menjaga konsistensi dan menghindari duplikasi kata karena perbedaan case.\n",
        "\n",
        "**Menghapus angka:** Kadang-kadang angka tidak relevan dalam analisis teks, tergantung pada konteks.\n",
        "\n",
        "**Stemming atau Lemmatization:** Mengubah kata ke bentuk dasar. Di sini, kita menggunakan lemmatization yang lebih akurat dalam menjaga konteks makna.\n",
        "\n",
        "**Menghapus stopwords:** Kata-kata umum yang tidak mengandung informasi penting, seperti \"the\", \"a\", dll."
      ],
      "metadata": {
        "id": "z1YvEffD38Ew"
      }
    },
    {
      "cell_type": "markdown",
      "source": [
        "## Cek Missing value"
      ],
      "metadata": {
        "id": "e5Z5-Fg15Il9"
      }
    },
    {
      "cell_type": "code",
      "source": [
        "# Cek missing values train\n",
        "print(train_df.isnull().sum())"
      ],
      "metadata": {
        "colab": {
          "base_uri": "https://localhost:8080/"
        },
        "id": "-SGrk7Cm2uwd",
        "outputId": "ad9d704c-4029-46fe-85bc-1c05bf8542a2"
      },
      "execution_count": 6,
      "outputs": [
        {
          "output_type": "stream",
          "name": "stdout",
          "text": [
            "premise       0\n",
            "hypothesis    0\n",
            "label         0\n",
            "dtype: int64\n"
          ]
        }
      ]
    },
    {
      "cell_type": "code",
      "source": [
        "# Cek missing values validation\n",
        "print(validation_df.isnull().sum())"
      ],
      "metadata": {
        "colab": {
          "base_uri": "https://localhost:8080/"
        },
        "id": "079FeXgs4b43",
        "outputId": "ad074eb8-3864-42df-94a7-b6639baf890f"
      },
      "execution_count": 7,
      "outputs": [
        {
          "output_type": "stream",
          "name": "stdout",
          "text": [
            "premise       0\n",
            "hypothesis    0\n",
            "label         0\n",
            "dtype: int64\n"
          ]
        }
      ]
    },
    {
      "cell_type": "code",
      "source": [
        "# Cek missing values test\n",
        "print(test_df.isnull().sum())"
      ],
      "metadata": {
        "colab": {
          "base_uri": "https://localhost:8080/"
        },
        "id": "wx9jgxz34kR2",
        "outputId": "0c0d7f88-3850-4540-e339-1ead1d2222b7"
      },
      "execution_count": 8,
      "outputs": [
        {
          "output_type": "stream",
          "name": "stdout",
          "text": [
            "premise       0\n",
            "hypothesis    0\n",
            "label         0\n",
            "dtype: int64\n"
          ]
        }
      ]
    },
    {
      "cell_type": "markdown",
      "source": [
        "## Cleaning"
      ],
      "metadata": {
        "id": "vcLY9uW5_9zt"
      }
    },
    {
      "cell_type": "code",
      "source": [
        "# Daftar dataframe untuk iterasi\n",
        "dfs = [train_df, validation_df, test_df]\n",
        "\n",
        "# Pembersihan setiap dataframe\n",
        "for df in dfs:\n",
        "    # Cek duplikat\n",
        "    print(f\"Duplicate rows in {df} before cleaning:\")\n",
        "    print(df.duplicated().sum())"
      ],
      "metadata": {
        "colab": {
          "base_uri": "https://localhost:8080/"
        },
        "id": "oGuocLlYN3MG",
        "outputId": "97f188fc-773b-46b6-e50f-f4188dd9ba0b"
      },
      "execution_count": 9,
      "outputs": [
        {
          "output_type": "stream",
          "name": "stdout",
          "text": [
            "Duplicate rows in                                                   premise  \\\n",
            "0       A person on a horse jumps over a broken down a...   \n",
            "1       A person on a horse jumps over a broken down a...   \n",
            "2       A person on a horse jumps over a broken down a...   \n",
            "3                   Children smiling and waving at camera   \n",
            "4                   Children smiling and waving at camera   \n",
            "...                                                   ...   \n",
            "550147                Four dirty and barefooted children.   \n",
            "550148                Four dirty and barefooted children.   \n",
            "550149  A man is surfing in a bodysuit in beautiful bl...   \n",
            "550150  A man is surfing in a bodysuit in beautiful bl...   \n",
            "550151  A man is surfing in a bodysuit in beautiful bl...   \n",
            "\n",
            "                                               hypothesis  label  \n",
            "0       A person is training his horse for a competition.      1  \n",
            "1           A person is at a diner, ordering an omelette.      2  \n",
            "2                       A person is outdoors, on a horse.      0  \n",
            "3                       They are smiling at their parents      1  \n",
            "4                              There are children present      0  \n",
            "...                                                   ...    ...  \n",
            "550147           four kids won awards for 'cleanest feet'      2  \n",
            "550148  four homeless children had their shoes stolen,...      1  \n",
            "550149  A man in a bodysuit is competing in a surfing ...      1  \n",
            "550150  A man in a business suit is heading to a board...      2  \n",
            "550151  On the beautiful blue water there is a man in ...      0  \n",
            "\n",
            "[550152 rows x 3 columns] before cleaning:\n",
            "547\n",
            "Duplicate rows in                                                 premise  \\\n",
            "0     Two women are embracing while holding to go pa...   \n",
            "1     Two women are embracing while holding to go pa...   \n",
            "2     Two women are embracing while holding to go pa...   \n",
            "3     Two young children in blue jerseys, one with t...   \n",
            "4     Two young children in blue jerseys, one with t...   \n",
            "...                                                 ...   \n",
            "9995  A small girl wearing a pink jacket is riding o...   \n",
            "9996  A small girl wearing a pink jacket is riding o...   \n",
            "9997  A young girl with blue and pink ribbons in her...   \n",
            "9998  A young girl with blue and pink ribbons in her...   \n",
            "9999  A young girl with blue and pink ribbons in her...   \n",
            "\n",
            "                                             hypothesis  label  \n",
            "0     The sisters are hugging goodbye while holding ...      1  \n",
            "1                       Two woman are holding packages.      0  \n",
            "2                  The men are fighting outside a deli.      2  \n",
            "3        Two kids in numbered jerseys wash their hands.      0  \n",
            "4              Two kids at a ballgame wash their hands.      1  \n",
            "...                                                 ...    ...  \n",
            "9995  The girl is sitting on a carved horse made of ...     -1  \n",
            "9996          The girl is moving at the speed of light.      2  \n",
            "9997                         People in a water fountain      0  \n",
            "9998                       A young girl knits a sweater      2  \n",
            "9999  A young mother tries to grab her topless child...      1  \n",
            "\n",
            "[10000 rows x 3 columns] before cleaning:\n",
            "2\n",
            "Duplicate rows in                                                 premise  \\\n",
            "0     This church choir sings to the masses as they ...   \n",
            "1     This church choir sings to the masses as they ...   \n",
            "2     This church choir sings to the masses as they ...   \n",
            "3     A woman with a green headscarf, blue shirt and...   \n",
            "4     A woman with a green headscarf, blue shirt and...   \n",
            "...                                                 ...   \n",
            "9995        Two women are observing something together.   \n",
            "9996        Two women are observing something together.   \n",
            "9997  A man in a black leather jacket and a book in ...   \n",
            "9998  A man in a black leather jacket and a book in ...   \n",
            "9999  A man in a black leather jacket and a book in ...   \n",
            "\n",
            "                                          hypothesis  label  \n",
            "0              The church has cracks in the ceiling.      1  \n",
            "1                    The church is filled with song.      0  \n",
            "2                A choir singing at a baseball game.      2  \n",
            "3                                The woman is young.      1  \n",
            "4                           The woman is very happy.      0  \n",
            "...                                              ...    ...  \n",
            "9995  Two women are standing with their eyes closed.      2  \n",
            "9996             Two girls are looking at something.      0  \n",
            "9997                         A man is flying a kite.      2  \n",
            "9998               A man is speaking in a classroom.      0  \n",
            "9999       A man is teaching science in a classroom.      1  \n",
            "\n",
            "[10000 rows x 3 columns] before cleaning:\n",
            "0\n"
          ]
        }
      ]
    },
    {
      "cell_type": "code",
      "source": [
        "# Cek jumlah baris duplikat sebelum pembersihan\n",
        "print(f\"Duplicate rows in train_df before cleaning: {train_df.duplicated().sum()}\")\n",
        "print(f\"Duplicate rows in validation_df before cleaning: {validation_df.duplicated().sum()}\")\n",
        "print(f\"Duplicate rows in test_df before cleaning: {test_df.duplicated().sum()}\")"
      ],
      "metadata": {
        "id": "J1b_cOQDrjaA",
        "colab": {
          "base_uri": "https://localhost:8080/"
        },
        "outputId": "dde63367-454d-445e-9102-4065abed2dbf"
      },
      "execution_count": 10,
      "outputs": [
        {
          "output_type": "stream",
          "name": "stdout",
          "text": [
            "Duplicate rows in train_df before cleaning: 547\n",
            "Duplicate rows in validation_df before cleaning: 2\n",
            "Duplicate rows in test_df before cleaning: 0\n"
          ]
        }
      ]
    },
    {
      "cell_type": "code",
      "source": [
        "# Pembersihan duplikat setelah pengecekan\n",
        "for df in dfs:\n",
        "    print(f\"Duplicate rows in {df} before cleaning:\")\n",
        "    print(df.duplicated().sum())\n",
        "\n",
        "    # Hapus duplikat jika ada\n",
        "    df.drop_duplicates(inplace=True)"
      ],
      "metadata": {
        "colab": {
          "base_uri": "https://localhost:8080/"
        },
        "id": "caieYYzEOwi2",
        "outputId": "907a8e7a-257c-4d69-fa3f-b5993e5d301e"
      },
      "execution_count": 11,
      "outputs": [
        {
          "output_type": "stream",
          "name": "stdout",
          "text": [
            "Duplicate rows in                                                   premise  \\\n",
            "0       A person on a horse jumps over a broken down a...   \n",
            "1       A person on a horse jumps over a broken down a...   \n",
            "2       A person on a horse jumps over a broken down a...   \n",
            "3                   Children smiling and waving at camera   \n",
            "4                   Children smiling and waving at camera   \n",
            "...                                                   ...   \n",
            "550147                Four dirty and barefooted children.   \n",
            "550148                Four dirty and barefooted children.   \n",
            "550149  A man is surfing in a bodysuit in beautiful bl...   \n",
            "550150  A man is surfing in a bodysuit in beautiful bl...   \n",
            "550151  A man is surfing in a bodysuit in beautiful bl...   \n",
            "\n",
            "                                               hypothesis  label  \n",
            "0       A person is training his horse for a competition.      1  \n",
            "1           A person is at a diner, ordering an omelette.      2  \n",
            "2                       A person is outdoors, on a horse.      0  \n",
            "3                       They are smiling at their parents      1  \n",
            "4                              There are children present      0  \n",
            "...                                                   ...    ...  \n",
            "550147           four kids won awards for 'cleanest feet'      2  \n",
            "550148  four homeless children had their shoes stolen,...      1  \n",
            "550149  A man in a bodysuit is competing in a surfing ...      1  \n",
            "550150  A man in a business suit is heading to a board...      2  \n",
            "550151  On the beautiful blue water there is a man in ...      0  \n",
            "\n",
            "[550152 rows x 3 columns] before cleaning:\n",
            "547\n",
            "Duplicate rows in                                                 premise  \\\n",
            "0     Two women are embracing while holding to go pa...   \n",
            "1     Two women are embracing while holding to go pa...   \n",
            "2     Two women are embracing while holding to go pa...   \n",
            "3     Two young children in blue jerseys, one with t...   \n",
            "4     Two young children in blue jerseys, one with t...   \n",
            "...                                                 ...   \n",
            "9995  A small girl wearing a pink jacket is riding o...   \n",
            "9996  A small girl wearing a pink jacket is riding o...   \n",
            "9997  A young girl with blue and pink ribbons in her...   \n",
            "9998  A young girl with blue and pink ribbons in her...   \n",
            "9999  A young girl with blue and pink ribbons in her...   \n",
            "\n",
            "                                             hypothesis  label  \n",
            "0     The sisters are hugging goodbye while holding ...      1  \n",
            "1                       Two woman are holding packages.      0  \n",
            "2                  The men are fighting outside a deli.      2  \n",
            "3        Two kids in numbered jerseys wash their hands.      0  \n",
            "4              Two kids at a ballgame wash their hands.      1  \n",
            "...                                                 ...    ...  \n",
            "9995  The girl is sitting on a carved horse made of ...     -1  \n",
            "9996          The girl is moving at the speed of light.      2  \n",
            "9997                         People in a water fountain      0  \n",
            "9998                       A young girl knits a sweater      2  \n",
            "9999  A young mother tries to grab her topless child...      1  \n",
            "\n",
            "[10000 rows x 3 columns] before cleaning:\n",
            "2\n",
            "Duplicate rows in                                                 premise  \\\n",
            "0     This church choir sings to the masses as they ...   \n",
            "1     This church choir sings to the masses as they ...   \n",
            "2     This church choir sings to the masses as they ...   \n",
            "3     A woman with a green headscarf, blue shirt and...   \n",
            "4     A woman with a green headscarf, blue shirt and...   \n",
            "...                                                 ...   \n",
            "9995        Two women are observing something together.   \n",
            "9996        Two women are observing something together.   \n",
            "9997  A man in a black leather jacket and a book in ...   \n",
            "9998  A man in a black leather jacket and a book in ...   \n",
            "9999  A man in a black leather jacket and a book in ...   \n",
            "\n",
            "                                          hypothesis  label  \n",
            "0              The church has cracks in the ceiling.      1  \n",
            "1                    The church is filled with song.      0  \n",
            "2                A choir singing at a baseball game.      2  \n",
            "3                                The woman is young.      1  \n",
            "4                           The woman is very happy.      0  \n",
            "...                                              ...    ...  \n",
            "9995  Two women are standing with their eyes closed.      2  \n",
            "9996             Two girls are looking at something.      0  \n",
            "9997                         A man is flying a kite.      2  \n",
            "9998               A man is speaking in a classroom.      0  \n",
            "9999       A man is teaching science in a classroom.      1  \n",
            "\n",
            "[10000 rows x 3 columns] before cleaning:\n",
            "0\n"
          ]
        }
      ]
    },
    {
      "cell_type": "code",
      "source": [
        "# Cek jumlah baris duplikat after pembersihan\n",
        "print(f\"Duplicate rows in train_df after cleaning: {train_df.duplicated().sum()}\")\n",
        "print(f\"Duplicate rows in validation_df after cleaning: {validation_df.duplicated().sum()}\")\n",
        "print(f\"Duplicate rows in test_df after cleaning: {test_df.duplicated().sum()}\")"
      ],
      "metadata": {
        "colab": {
          "base_uri": "https://localhost:8080/"
        },
        "id": "w7P14JIVtCO4",
        "outputId": "95f14b14-5d23-41c4-fd34-9c381bd4fcd9"
      },
      "execution_count": 12,
      "outputs": [
        {
          "output_type": "stream",
          "name": "stdout",
          "text": [
            "Duplicate rows in train_df after cleaning: 0\n",
            "Duplicate rows in validation_df after cleaning: 0\n",
            "Duplicate rows in test_df after cleaning: 0\n"
          ]
        }
      ]
    },
    {
      "cell_type": "markdown",
      "source": [
        "## huruf, tanda baca, whitespace extra"
      ],
      "metadata": {
        "id": "vjo6IJe35OPf"
      }
    },
    {
      "cell_type": "markdown",
      "source": [
        "### Downloading package"
      ],
      "metadata": {
        "id": "Hf0LEQ6C8_Qi"
      }
    },
    {
      "cell_type": "code",
      "source": [
        "import nltk\n",
        "nltk.download('punkt_tab')"
      ],
      "metadata": {
        "colab": {
          "base_uri": "https://localhost:8080/"
        },
        "id": "Yt3OpA1H2x2C",
        "outputId": "c1d57729-4cdc-45d1-cbe1-95743db13fbe"
      },
      "execution_count": 14,
      "outputs": [
        {
          "output_type": "stream",
          "name": "stderr",
          "text": [
            "[nltk_data] Downloading package punkt_tab to /root/nltk_data...\n",
            "[nltk_data]   Package punkt_tab is already up-to-date!\n"
          ]
        },
        {
          "output_type": "execute_result",
          "data": {
            "text/plain": [
              "True"
            ]
          },
          "metadata": {},
          "execution_count": 14
        }
      ]
    },
    {
      "cell_type": "code",
      "source": [
        "nltk.download('all')"
      ],
      "metadata": {
        "colab": {
          "base_uri": "https://localhost:8080/"
        },
        "id": "PYQlXVOl20G1",
        "outputId": "cbeda838-a4cf-42dc-d111-e8a8d6e349cc"
      },
      "execution_count": 15,
      "outputs": [
        {
          "output_type": "stream",
          "name": "stderr",
          "text": [
            "[nltk_data] Downloading collection 'all'\n",
            "[nltk_data]    | \n",
            "[nltk_data]    | Downloading package abc to /root/nltk_data...\n",
            "[nltk_data]    |   Package abc is already up-to-date!\n",
            "[nltk_data]    | Downloading package alpino to /root/nltk_data...\n",
            "[nltk_data]    |   Package alpino is already up-to-date!\n",
            "[nltk_data]    | Downloading package averaged_perceptron_tagger to\n",
            "[nltk_data]    |     /root/nltk_data...\n",
            "[nltk_data]    |   Package averaged_perceptron_tagger is already up-\n",
            "[nltk_data]    |       to-date!\n",
            "[nltk_data]    | Downloading package averaged_perceptron_tagger_eng to\n",
            "[nltk_data]    |     /root/nltk_data...\n",
            "[nltk_data]    |   Package averaged_perceptron_tagger_eng is already\n",
            "[nltk_data]    |       up-to-date!\n",
            "[nltk_data]    | Downloading package averaged_perceptron_tagger_ru to\n",
            "[nltk_data]    |     /root/nltk_data...\n",
            "[nltk_data]    |   Package averaged_perceptron_tagger_ru is already\n",
            "[nltk_data]    |       up-to-date!\n",
            "[nltk_data]    | Downloading package averaged_perceptron_tagger_rus to\n",
            "[nltk_data]    |     /root/nltk_data...\n",
            "[nltk_data]    |   Package averaged_perceptron_tagger_rus is already\n",
            "[nltk_data]    |       up-to-date!\n",
            "[nltk_data]    | Downloading package basque_grammars to\n",
            "[nltk_data]    |     /root/nltk_data...\n",
            "[nltk_data]    |   Package basque_grammars is already up-to-date!\n",
            "[nltk_data]    | Downloading package bcp47 to /root/nltk_data...\n",
            "[nltk_data]    |   Package bcp47 is already up-to-date!\n",
            "[nltk_data]    | Downloading package biocreative_ppi to\n",
            "[nltk_data]    |     /root/nltk_data...\n",
            "[nltk_data]    |   Package biocreative_ppi is already up-to-date!\n",
            "[nltk_data]    | Downloading package bllip_wsj_no_aux to\n",
            "[nltk_data]    |     /root/nltk_data...\n",
            "[nltk_data]    |   Package bllip_wsj_no_aux is already up-to-date!\n",
            "[nltk_data]    | Downloading package book_grammars to\n",
            "[nltk_data]    |     /root/nltk_data...\n",
            "[nltk_data]    |   Package book_grammars is already up-to-date!\n",
            "[nltk_data]    | Downloading package brown to /root/nltk_data...\n",
            "[nltk_data]    |   Package brown is already up-to-date!\n",
            "[nltk_data]    | Downloading package brown_tei to /root/nltk_data...\n",
            "[nltk_data]    |   Package brown_tei is already up-to-date!\n",
            "[nltk_data]    | Downloading package cess_cat to /root/nltk_data...\n",
            "[nltk_data]    |   Package cess_cat is already up-to-date!\n",
            "[nltk_data]    | Downloading package cess_esp to /root/nltk_data...\n",
            "[nltk_data]    |   Package cess_esp is already up-to-date!\n",
            "[nltk_data]    | Downloading package chat80 to /root/nltk_data...\n",
            "[nltk_data]    |   Package chat80 is already up-to-date!\n",
            "[nltk_data]    | Downloading package city_database to\n",
            "[nltk_data]    |     /root/nltk_data...\n",
            "[nltk_data]    |   Package city_database is already up-to-date!\n",
            "[nltk_data]    | Downloading package cmudict to /root/nltk_data...\n",
            "[nltk_data]    |   Package cmudict is already up-to-date!\n",
            "[nltk_data]    | Downloading package comparative_sentences to\n",
            "[nltk_data]    |     /root/nltk_data...\n",
            "[nltk_data]    |   Package comparative_sentences is already up-to-\n",
            "[nltk_data]    |       date!\n",
            "[nltk_data]    | Downloading package comtrans to /root/nltk_data...\n",
            "[nltk_data]    |   Package comtrans is already up-to-date!\n",
            "[nltk_data]    | Downloading package conll2000 to /root/nltk_data...\n",
            "[nltk_data]    |   Package conll2000 is already up-to-date!\n",
            "[nltk_data]    | Downloading package conll2002 to /root/nltk_data...\n",
            "[nltk_data]    |   Package conll2002 is already up-to-date!\n",
            "[nltk_data]    | Downloading package conll2007 to /root/nltk_data...\n",
            "[nltk_data]    |   Package conll2007 is already up-to-date!\n",
            "[nltk_data]    | Downloading package crubadan to /root/nltk_data...\n",
            "[nltk_data]    |   Package crubadan is already up-to-date!\n",
            "[nltk_data]    | Downloading package dependency_treebank to\n",
            "[nltk_data]    |     /root/nltk_data...\n",
            "[nltk_data]    |   Package dependency_treebank is already up-to-date!\n",
            "[nltk_data]    | Downloading package dolch to /root/nltk_data...\n",
            "[nltk_data]    |   Package dolch is already up-to-date!\n",
            "[nltk_data]    | Downloading package europarl_raw to\n",
            "[nltk_data]    |     /root/nltk_data...\n",
            "[nltk_data]    |   Package europarl_raw is already up-to-date!\n",
            "[nltk_data]    | Downloading package extended_omw to\n",
            "[nltk_data]    |     /root/nltk_data...\n",
            "[nltk_data]    |   Package extended_omw is already up-to-date!\n",
            "[nltk_data]    | Downloading package floresta to /root/nltk_data...\n",
            "[nltk_data]    |   Package floresta is already up-to-date!\n",
            "[nltk_data]    | Downloading package framenet_v15 to\n",
            "[nltk_data]    |     /root/nltk_data...\n",
            "[nltk_data]    |   Package framenet_v15 is already up-to-date!\n",
            "[nltk_data]    | Downloading package framenet_v17 to\n",
            "[nltk_data]    |     /root/nltk_data...\n",
            "[nltk_data]    |   Package framenet_v17 is already up-to-date!\n",
            "[nltk_data]    | Downloading package gazetteers to /root/nltk_data...\n",
            "[nltk_data]    |   Package gazetteers is already up-to-date!\n",
            "[nltk_data]    | Downloading package genesis to /root/nltk_data...\n",
            "[nltk_data]    |   Package genesis is already up-to-date!\n",
            "[nltk_data]    | Downloading package gutenberg to /root/nltk_data...\n",
            "[nltk_data]    |   Package gutenberg is already up-to-date!\n",
            "[nltk_data]    | Downloading package ieer to /root/nltk_data...\n",
            "[nltk_data]    |   Package ieer is already up-to-date!\n",
            "[nltk_data]    | Downloading package inaugural to /root/nltk_data...\n",
            "[nltk_data]    |   Package inaugural is already up-to-date!\n",
            "[nltk_data]    | Downloading package indian to /root/nltk_data...\n",
            "[nltk_data]    |   Package indian is already up-to-date!\n",
            "[nltk_data]    | Downloading package jeita to /root/nltk_data...\n",
            "[nltk_data]    |   Package jeita is already up-to-date!\n",
            "[nltk_data]    | Downloading package kimmo to /root/nltk_data...\n",
            "[nltk_data]    |   Package kimmo is already up-to-date!\n",
            "[nltk_data]    | Downloading package knbc to /root/nltk_data...\n",
            "[nltk_data]    |   Package knbc is already up-to-date!\n",
            "[nltk_data]    | Downloading package large_grammars to\n",
            "[nltk_data]    |     /root/nltk_data...\n",
            "[nltk_data]    |   Package large_grammars is already up-to-date!\n",
            "[nltk_data]    | Downloading package lin_thesaurus to\n",
            "[nltk_data]    |     /root/nltk_data...\n",
            "[nltk_data]    |   Package lin_thesaurus is already up-to-date!\n",
            "[nltk_data]    | Downloading package mac_morpho to /root/nltk_data...\n",
            "[nltk_data]    |   Package mac_morpho is already up-to-date!\n",
            "[nltk_data]    | Downloading package machado to /root/nltk_data...\n",
            "[nltk_data]    |   Package machado is already up-to-date!\n",
            "[nltk_data]    | Downloading package masc_tagged to /root/nltk_data...\n",
            "[nltk_data]    |   Package masc_tagged is already up-to-date!\n",
            "[nltk_data]    | Downloading package maxent_ne_chunker to\n",
            "[nltk_data]    |     /root/nltk_data...\n",
            "[nltk_data]    |   Package maxent_ne_chunker is already up-to-date!\n",
            "[nltk_data]    | Downloading package maxent_ne_chunker_tab to\n",
            "[nltk_data]    |     /root/nltk_data...\n",
            "[nltk_data]    |   Package maxent_ne_chunker_tab is already up-to-\n",
            "[nltk_data]    |       date!\n",
            "[nltk_data]    | Downloading package maxent_treebank_pos_tagger to\n",
            "[nltk_data]    |     /root/nltk_data...\n",
            "[nltk_data]    |   Package maxent_treebank_pos_tagger is already up-\n",
            "[nltk_data]    |       to-date!\n",
            "[nltk_data]    | Downloading package maxent_treebank_pos_tagger_tab to\n",
            "[nltk_data]    |     /root/nltk_data...\n",
            "[nltk_data]    |   Package maxent_treebank_pos_tagger_tab is already\n",
            "[nltk_data]    |       up-to-date!\n",
            "[nltk_data]    | Downloading package moses_sample to\n",
            "[nltk_data]    |     /root/nltk_data...\n",
            "[nltk_data]    |   Package moses_sample is already up-to-date!\n",
            "[nltk_data]    | Downloading package movie_reviews to\n",
            "[nltk_data]    |     /root/nltk_data...\n",
            "[nltk_data]    |   Package movie_reviews is already up-to-date!\n",
            "[nltk_data]    | Downloading package mte_teip5 to /root/nltk_data...\n",
            "[nltk_data]    |   Package mte_teip5 is already up-to-date!\n",
            "[nltk_data]    | Downloading package mwa_ppdb to /root/nltk_data...\n",
            "[nltk_data]    |   Package mwa_ppdb is already up-to-date!\n",
            "[nltk_data]    | Downloading package names to /root/nltk_data...\n",
            "[nltk_data]    |   Package names is already up-to-date!\n",
            "[nltk_data]    | Downloading package nombank.1.0 to /root/nltk_data...\n",
            "[nltk_data]    |   Package nombank.1.0 is already up-to-date!\n",
            "[nltk_data]    | Downloading package nonbreaking_prefixes to\n",
            "[nltk_data]    |     /root/nltk_data...\n",
            "[nltk_data]    |   Package nonbreaking_prefixes is already up-to-date!\n",
            "[nltk_data]    | Downloading package nps_chat to /root/nltk_data...\n",
            "[nltk_data]    |   Package nps_chat is already up-to-date!\n",
            "[nltk_data]    | Downloading package omw to /root/nltk_data...\n",
            "[nltk_data]    |   Package omw is already up-to-date!\n",
            "[nltk_data]    | Downloading package omw-1.4 to /root/nltk_data...\n",
            "[nltk_data]    |   Package omw-1.4 is already up-to-date!\n",
            "[nltk_data]    | Downloading package opinion_lexicon to\n",
            "[nltk_data]    |     /root/nltk_data...\n",
            "[nltk_data]    |   Package opinion_lexicon is already up-to-date!\n",
            "[nltk_data]    | Downloading package panlex_swadesh to\n",
            "[nltk_data]    |     /root/nltk_data...\n",
            "[nltk_data]    |   Package panlex_swadesh is already up-to-date!\n",
            "[nltk_data]    | Downloading package paradigms to /root/nltk_data...\n",
            "[nltk_data]    |   Package paradigms is already up-to-date!\n",
            "[nltk_data]    | Downloading package pe08 to /root/nltk_data...\n",
            "[nltk_data]    |   Package pe08 is already up-to-date!\n",
            "[nltk_data]    | Downloading package perluniprops to\n",
            "[nltk_data]    |     /root/nltk_data...\n",
            "[nltk_data]    |   Package perluniprops is already up-to-date!\n",
            "[nltk_data]    | Downloading package pil to /root/nltk_data...\n",
            "[nltk_data]    |   Package pil is already up-to-date!\n",
            "[nltk_data]    | Downloading package pl196x to /root/nltk_data...\n",
            "[nltk_data]    |   Package pl196x is already up-to-date!\n",
            "[nltk_data]    | Downloading package porter_test to /root/nltk_data...\n",
            "[nltk_data]    |   Package porter_test is already up-to-date!\n",
            "[nltk_data]    | Downloading package ppattach to /root/nltk_data...\n",
            "[nltk_data]    |   Package ppattach is already up-to-date!\n",
            "[nltk_data]    | Downloading package problem_reports to\n",
            "[nltk_data]    |     /root/nltk_data...\n",
            "[nltk_data]    |   Package problem_reports is already up-to-date!\n",
            "[nltk_data]    | Downloading package product_reviews_1 to\n",
            "[nltk_data]    |     /root/nltk_data...\n",
            "[nltk_data]    |   Package product_reviews_1 is already up-to-date!\n",
            "[nltk_data]    | Downloading package product_reviews_2 to\n",
            "[nltk_data]    |     /root/nltk_data...\n",
            "[nltk_data]    |   Package product_reviews_2 is already up-to-date!\n",
            "[nltk_data]    | Downloading package propbank to /root/nltk_data...\n",
            "[nltk_data]    |   Package propbank is already up-to-date!\n",
            "[nltk_data]    | Downloading package pros_cons to /root/nltk_data...\n",
            "[nltk_data]    |   Package pros_cons is already up-to-date!\n",
            "[nltk_data]    | Downloading package ptb to /root/nltk_data...\n",
            "[nltk_data]    |   Package ptb is already up-to-date!\n",
            "[nltk_data]    | Downloading package punkt to /root/nltk_data...\n",
            "[nltk_data]    |   Package punkt is already up-to-date!\n",
            "[nltk_data]    | Downloading package punkt_tab to /root/nltk_data...\n",
            "[nltk_data]    |   Package punkt_tab is already up-to-date!\n",
            "[nltk_data]    | Downloading package qc to /root/nltk_data...\n",
            "[nltk_data]    |   Package qc is already up-to-date!\n",
            "[nltk_data]    | Downloading package reuters to /root/nltk_data...\n",
            "[nltk_data]    |   Package reuters is already up-to-date!\n",
            "[nltk_data]    | Downloading package rslp to /root/nltk_data...\n",
            "[nltk_data]    |   Package rslp is already up-to-date!\n",
            "[nltk_data]    | Downloading package rte to /root/nltk_data...\n",
            "[nltk_data]    |   Package rte is already up-to-date!\n",
            "[nltk_data]    | Downloading package sample_grammars to\n",
            "[nltk_data]    |     /root/nltk_data...\n",
            "[nltk_data]    |   Package sample_grammars is already up-to-date!\n",
            "[nltk_data]    | Downloading package semcor to /root/nltk_data...\n",
            "[nltk_data]    |   Package semcor is already up-to-date!\n",
            "[nltk_data]    | Downloading package senseval to /root/nltk_data...\n",
            "[nltk_data]    |   Package senseval is already up-to-date!\n",
            "[nltk_data]    | Downloading package sentence_polarity to\n",
            "[nltk_data]    |     /root/nltk_data...\n",
            "[nltk_data]    |   Package sentence_polarity is already up-to-date!\n",
            "[nltk_data]    | Downloading package sentiwordnet to\n",
            "[nltk_data]    |     /root/nltk_data...\n",
            "[nltk_data]    |   Package sentiwordnet is already up-to-date!\n",
            "[nltk_data]    | Downloading package shakespeare to /root/nltk_data...\n",
            "[nltk_data]    |   Package shakespeare is already up-to-date!\n",
            "[nltk_data]    | Downloading package sinica_treebank to\n",
            "[nltk_data]    |     /root/nltk_data...\n",
            "[nltk_data]    |   Package sinica_treebank is already up-to-date!\n",
            "[nltk_data]    | Downloading package smultron to /root/nltk_data...\n",
            "[nltk_data]    |   Package smultron is already up-to-date!\n",
            "[nltk_data]    | Downloading package snowball_data to\n",
            "[nltk_data]    |     /root/nltk_data...\n",
            "[nltk_data]    |   Package snowball_data is already up-to-date!\n",
            "[nltk_data]    | Downloading package spanish_grammars to\n",
            "[nltk_data]    |     /root/nltk_data...\n",
            "[nltk_data]    |   Package spanish_grammars is already up-to-date!\n",
            "[nltk_data]    | Downloading package state_union to /root/nltk_data...\n",
            "[nltk_data]    |   Package state_union is already up-to-date!\n",
            "[nltk_data]    | Downloading package stopwords to /root/nltk_data...\n",
            "[nltk_data]    |   Package stopwords is already up-to-date!\n",
            "[nltk_data]    | Downloading package subjectivity to\n",
            "[nltk_data]    |     /root/nltk_data...\n",
            "[nltk_data]    |   Package subjectivity is already up-to-date!\n",
            "[nltk_data]    | Downloading package swadesh to /root/nltk_data...\n",
            "[nltk_data]    |   Package swadesh is already up-to-date!\n",
            "[nltk_data]    | Downloading package switchboard to /root/nltk_data...\n",
            "[nltk_data]    |   Package switchboard is already up-to-date!\n",
            "[nltk_data]    | Downloading package tagsets to /root/nltk_data...\n",
            "[nltk_data]    |   Package tagsets is already up-to-date!\n",
            "[nltk_data]    | Downloading package tagsets_json to\n",
            "[nltk_data]    |     /root/nltk_data...\n",
            "[nltk_data]    |   Package tagsets_json is already up-to-date!\n",
            "[nltk_data]    | Downloading package timit to /root/nltk_data...\n",
            "[nltk_data]    |   Package timit is already up-to-date!\n",
            "[nltk_data]    | Downloading package toolbox to /root/nltk_data...\n",
            "[nltk_data]    |   Package toolbox is already up-to-date!\n",
            "[nltk_data]    | Downloading package treebank to /root/nltk_data...\n",
            "[nltk_data]    |   Package treebank is already up-to-date!\n",
            "[nltk_data]    | Downloading package twitter_samples to\n",
            "[nltk_data]    |     /root/nltk_data...\n",
            "[nltk_data]    |   Package twitter_samples is already up-to-date!\n",
            "[nltk_data]    | Downloading package udhr to /root/nltk_data...\n",
            "[nltk_data]    |   Package udhr is already up-to-date!\n",
            "[nltk_data]    | Downloading package udhr2 to /root/nltk_data...\n",
            "[nltk_data]    |   Package udhr2 is already up-to-date!\n",
            "[nltk_data]    | Downloading package unicode_samples to\n",
            "[nltk_data]    |     /root/nltk_data...\n",
            "[nltk_data]    |   Package unicode_samples is already up-to-date!\n",
            "[nltk_data]    | Downloading package universal_tagset to\n",
            "[nltk_data]    |     /root/nltk_data...\n",
            "[nltk_data]    |   Package universal_tagset is already up-to-date!\n",
            "[nltk_data]    | Downloading package universal_treebanks_v20 to\n",
            "[nltk_data]    |     /root/nltk_data...\n",
            "[nltk_data]    |   Package universal_treebanks_v20 is already up-to-\n",
            "[nltk_data]    |       date!\n",
            "[nltk_data]    | Downloading package vader_lexicon to\n",
            "[nltk_data]    |     /root/nltk_data...\n",
            "[nltk_data]    |   Package vader_lexicon is already up-to-date!\n",
            "[nltk_data]    | Downloading package verbnet to /root/nltk_data...\n",
            "[nltk_data]    |   Package verbnet is already up-to-date!\n",
            "[nltk_data]    | Downloading package verbnet3 to /root/nltk_data...\n",
            "[nltk_data]    |   Package verbnet3 is already up-to-date!\n",
            "[nltk_data]    | Downloading package webtext to /root/nltk_data...\n",
            "[nltk_data]    |   Package webtext is already up-to-date!\n",
            "[nltk_data]    | Downloading package wmt15_eval to /root/nltk_data...\n",
            "[nltk_data]    |   Package wmt15_eval is already up-to-date!\n",
            "[nltk_data]    | Downloading package word2vec_sample to\n",
            "[nltk_data]    |     /root/nltk_data...\n",
            "[nltk_data]    |   Package word2vec_sample is already up-to-date!\n",
            "[nltk_data]    | Downloading package wordnet to /root/nltk_data...\n",
            "[nltk_data]    |   Package wordnet is already up-to-date!\n",
            "[nltk_data]    | Downloading package wordnet2021 to /root/nltk_data...\n",
            "[nltk_data]    |   Package wordnet2021 is already up-to-date!\n",
            "[nltk_data]    | Downloading package wordnet2022 to /root/nltk_data...\n",
            "[nltk_data]    |   Package wordnet2022 is already up-to-date!\n",
            "[nltk_data]    | Downloading package wordnet31 to /root/nltk_data...\n",
            "[nltk_data]    |   Package wordnet31 is already up-to-date!\n",
            "[nltk_data]    | Downloading package wordnet_ic to /root/nltk_data...\n",
            "[nltk_data]    |   Package wordnet_ic is already up-to-date!\n",
            "[nltk_data]    | Downloading package words to /root/nltk_data...\n",
            "[nltk_data]    |   Package words is already up-to-date!\n",
            "[nltk_data]    | Downloading package ycoe to /root/nltk_data...\n",
            "[nltk_data]    |   Package ycoe is already up-to-date!\n",
            "[nltk_data]    | \n",
            "[nltk_data]  Done downloading collection all\n"
          ]
        },
        {
          "output_type": "execute_result",
          "data": {
            "text/plain": [
              "True"
            ]
          },
          "metadata": {},
          "execution_count": 15
        }
      ]
    },
    {
      "cell_type": "code",
      "source": [
        "from nltk.tokenize import word_tokenize\n",
        "sample_text = \"This is a sample text, with numbers like 123 and punctuation!\"\n",
        "print(word_tokenize(sample_text))  # Harus berhasil jika tokenizer tersedia"
      ],
      "metadata": {
        "colab": {
          "base_uri": "https://localhost:8080/"
        },
        "id": "Ohg9Iac_2g5t",
        "outputId": "883a20ed-6bb1-42a4-b9c8-fe2ad9292897"
      },
      "execution_count": 16,
      "outputs": [
        {
          "output_type": "stream",
          "name": "stdout",
          "text": [
            "['This', 'is', 'a', 'sample', 'text', ',', 'with', 'numbers', 'like', '123', 'and', 'punctuation', '!']\n"
          ]
        }
      ]
    },
    {
      "cell_type": "markdown",
      "source": [
        "### process"
      ],
      "metadata": {
        "id": "iGMgwLwCX2Bs"
      }
    },
    {
      "cell_type": "code",
      "source": [
        "import re\n",
        "import string\n",
        "import nltk\n",
        "from nltk.corpus import stopwords\n",
        "from nltk.stem import WordNetLemmatizer\n",
        "from nltk.corpus import wordnet\n",
        "\n",
        "# Download necessary NLTK resources\n",
        "nltk.download('punkt')\n",
        "nltk.download('wordnet')\n",
        "nltk.download('averaged_perceptron_tagger')\n",
        "nltk.download('stopwords')\n",
        "\n",
        "# Helper function to map NLTK POS tags to WordNet POS tags\n",
        "def get_wordnet_pos(treebank_tag):\n",
        "    if treebank_tag.startswith('J'):\n",
        "        return wordnet.ADJ\n",
        "    elif treebank_tag.startswith('V'):\n",
        "        return wordnet.VERB\n",
        "    elif treebank_tag.startswith('N'):\n",
        "        return wordnet.NOUN\n",
        "    elif treebank_tag.startswith('R'):\n",
        "        return wordnet.ADV\n",
        "    else:\n",
        "        return wordnet.NOUN\n",
        "\n",
        "# Main preprocessing function\n",
        "def preprocess_text(text):\n",
        "    \"\"\"\n",
        "    Preprocesses text by normalizing, removing noise, tokenizing, removing stop words,\n",
        "    and lemmatizing with proper POS tagging.\n",
        "\n",
        "    Args:\n",
        "        text (str): Input text string to preprocess.\n",
        "\n",
        "    Returns:\n",
        "        str: Cleaned and preprocessed text.\n",
        "    \"\"\"\n",
        "    # memerikasa tipe data -----------\n",
        "    if not isinstance(text, str):\n",
        "        return \"\"\n",
        "\n",
        "    # 1. Lowercasing -----------------\n",
        "    text = text.lower()\n",
        "\n",
        "    # 2. Remove numbers and punctuation ----------------\n",
        "    text = re.sub(r'\\d+', '', text)  # Remove numbers\n",
        "    text = text.translate(str.maketrans('', '', string.punctuation))  # Remove punctuation\n",
        "\n",
        "    # 3. Tokenization ---------------\n",
        "    tokens = nltk.word_tokenize(text)\n",
        "\n",
        "    # 4. Remove stop words -------------------------\n",
        "    stop_words = set(stopwords.words('english'))\n",
        "    tokens = [word for word in tokens if word not in stop_words]\n",
        "\n",
        "    # 5. POS tagging and Lemmatization ------------\n",
        "    pos_tags = nltk.pos_tag(tokens)\n",
        "    lemmatizer = WordNetLemmatizer()\n",
        "    lemmatized_tokens = [lemmatizer.lemmatize(word, get_wordnet_pos(tag)) for word, tag in pos_tags]\n",
        "\n",
        "    # 6. Join tokens back into a single string ---------------\n",
        "    return ' '.join(lemmatized_tokens)"
      ],
      "metadata": {
        "id": "HzrW31zNVEG7",
        "colab": {
          "base_uri": "https://localhost:8080/"
        },
        "outputId": "ae4895e5-1fb4-4ae1-a0b4-6f4ed57e2223"
      },
      "execution_count": 17,
      "outputs": [
        {
          "output_type": "stream",
          "name": "stderr",
          "text": [
            "[nltk_data] Downloading package punkt to /root/nltk_data...\n",
            "[nltk_data]   Package punkt is already up-to-date!\n",
            "[nltk_data] Downloading package wordnet to /root/nltk_data...\n",
            "[nltk_data]   Package wordnet is already up-to-date!\n",
            "[nltk_data] Downloading package averaged_perceptron_tagger to\n",
            "[nltk_data]     /root/nltk_data...\n",
            "[nltk_data]   Package averaged_perceptron_tagger is already up-to-\n",
            "[nltk_data]       date!\n",
            "[nltk_data] Downloading package stopwords to /root/nltk_data...\n",
            "[nltk_data]   Package stopwords is already up-to-date!\n"
          ]
        }
      ]
    },
    {
      "cell_type": "code",
      "source": [
        "import re\n",
        "import string\n",
        "import nltk\n",
        "from nltk.corpus import stopwords\n",
        "from nltk.stem import WordNetLemmatizer\n",
        "from nltk.corpus import wordnet\n",
        "\n",
        "# Download necessary NLTK resources\n",
        "nltk.download('punkt_tab')\n",
        "nltk.download('wordnet')\n",
        "nltk.download('averaged_perceptron_tagger_eng')\n",
        "nltk.download('stopwords')\n",
        "\n",
        "# Helper function to map NLTK POS tags to WordNet POS tags\n",
        "def get_wordnet_pos(treebank_tag):\n",
        "    if treebank_tag.startswith('J'):\n",
        "        return wordnet.ADJ\n",
        "    elif treebank_tag.startswith('V'):\n",
        "        return wordnet.VERB\n",
        "    elif treebank_tag.startswith('N'):\n",
        "        return wordnet.NOUN\n",
        "    elif treebank_tag.startswith('R'):\n",
        "        return wordnet.ADV\n",
        "    else:\n",
        "        return wordnet.NOUN\n",
        "\n",
        "# Main preprocessing function\n",
        "def preprocess_text(text):\n",
        "    \"\"\"\n",
        "    Preprocesses text by normalizing, removing noise, tokenizing, removing stop words,\n",
        "    and lemmatizing with proper POS tagging.\n",
        "\n",
        "    Args:\n",
        "        text (str): Input text string to preprocess.\n",
        "\n",
        "    Returns:\n",
        "        str: Cleaned and preprocessed text.\n",
        "    \"\"\"\n",
        "    if not isinstance(text, str):\n",
        "        return \"\"\n",
        "\n",
        "    # 1. Lowercasing\n",
        "    text = text.lower()\n",
        "\n",
        "    # 2. Remove numbers and punctuation\n",
        "    text = re.sub(r'\\d+', '', text)  # Remove numbers\n",
        "    text = text.translate(str.maketrans('', '', string.punctuation))  # Remove punctuation\n",
        "\n",
        "    # 3. Tokenization\n",
        "    tokens = nltk.word_tokenize(text)\n",
        "\n",
        "    # 4. Remove stop words\n",
        "    stop_words = set(stopwords.words('english'))\n",
        "    tokens = [word for word in tokens if word not in stop_words]\n",
        "\n",
        "    # 5. POS tagging and Lemmatization\n",
        "    pos_tags = nltk.pos_tag(tokens)\n",
        "    lemmatizer = WordNetLemmatizer()\n",
        "    lemmatized_tokens = [lemmatizer.lemmatize(word, get_wordnet_pos(tag)) for word, tag in pos_tags]\n",
        "\n",
        "    # 6. Join tokens back into a single string\n",
        "    return ' '.join(lemmatized_tokens)\n"
      ],
      "metadata": {
        "colab": {
          "base_uri": "https://localhost:8080/"
        },
        "id": "vv5E5gRXpcSe",
        "outputId": "433ef025-08ea-465e-8511-4494e0143e7e"
      },
      "execution_count": 18,
      "outputs": [
        {
          "output_type": "stream",
          "name": "stderr",
          "text": [
            "[nltk_data] Downloading package punkt_tab to /root/nltk_data...\n",
            "[nltk_data]   Package punkt_tab is already up-to-date!\n",
            "[nltk_data] Downloading package wordnet to /root/nltk_data...\n",
            "[nltk_data]   Package wordnet is already up-to-date!\n",
            "[nltk_data] Downloading package averaged_perceptron_tagger_eng to\n",
            "[nltk_data]     /root/nltk_data...\n",
            "[nltk_data]   Package averaged_perceptron_tagger_eng is already up-to-\n",
            "[nltk_data]       date!\n",
            "[nltk_data] Downloading package stopwords to /root/nltk_data...\n",
            "[nltk_data]   Package stopwords is already up-to-date!\n"
          ]
        }
      ]
    },
    {
      "cell_type": "code",
      "source": [
        "import re\n",
        "\n",
        "# Fungsi untuk membersihkan teks----------------------------\n",
        "def clean_text(text):\n",
        "    # Mengubah teks menjadi huruf kecil\n",
        "    text = text.lower()\n",
        "    # Menghapus tanda baca dan karakter khusus\n",
        "    text = re.sub(r'[^\\w\\s]', '', text)\n",
        "    # Menghapus angka\n",
        "    text = re.sub(r'\\d+', '', text)\n",
        "    return text\n",
        "\n",
        "# Pembersihan DataFrame ------------------------------------\n",
        "def clean_dataframe(df):\n",
        "    # Menghapus duplikasi\n",
        "    df = df.drop_duplicates()\n",
        "\n",
        "    # Menghapus baris dengan nilai kosong\n",
        "    df = df.dropna(subset=['premise', 'hypothesis', 'label'])\n",
        "\n",
        "    # Normalisasi teks\n",
        "    df['premise'] = df['premise'].apply(preprocess_text)\n",
        "    df['hypothesis'] = df['hypothesis'].apply(preprocess_text)\n",
        "\n",
        "    return df\n",
        "\n",
        "# Menerapkan pembersihan pada DataFrame ----------------------\n",
        "train_df = clean_dataframe(train_df)\n",
        "validation_df = clean_dataframe(validation_df)\n",
        "test_df = clean_dataframe(test_df)\n",
        "\n",
        "# Menampilkan informasi tentang DataFrame setelah pembersihan\n",
        "print(\"Train DataFrame shape:\", train_df.shape)\n",
        "print(\"Validation DataFrame shape:\", validation_df.shape)\n",
        "print(\"Test DataFrame shape:\", test_df.shape)\n",
        "\n",
        "# Menampilkan beberapa contoh data yang sudah dibersihkan\n",
        "print(train_df.head())"
      ],
      "metadata": {
        "colab": {
          "base_uri": "https://localhost:8080/"
        },
        "id": "-4ACAjdL_pQY",
        "outputId": "b87a6ee7-94c4-4f7c-d70a-c6b6d45b7bd7"
      },
      "execution_count": 20,
      "outputs": [
        {
          "output_type": "stream",
          "name": "stdout",
          "text": [
            "Train DataFrame shape: (548117, 3)\n",
            "Validation DataFrame shape: (9998, 3)\n",
            "Test DataFrame shape: (10000, 3)\n",
            "                            premise                      hypothesis  label\n",
            "0  person horse jump break airplane  person train horse competition      1\n",
            "1  person horse jump break airplane     person diner order omelette      2\n",
            "2  person horse jump break airplane           person outdoors horse      0\n",
            "3           child smile wave camera                    smile parent      1\n",
            "4           child smile wave camera                   child present      0\n"
          ]
        }
      ]
    },
    {
      "cell_type": "markdown",
      "source": [
        "\n",
        "\n",
        "---\n",
        "\n"
      ],
      "metadata": {
        "id": "gtcB16GNhrre"
      }
    },
    {
      "cell_type": "code",
      "source": [
        "# Cek data setelah preprocessing teks\n",
        "train_df.head(10)"
      ],
      "metadata": {
        "colab": {
          "base_uri": "https://localhost:8080/",
          "height": 363
        },
        "id": "6pHbrEhrooPe",
        "outputId": "1de83139-0ce4-4f69-8db1-982346b3dffc"
      },
      "execution_count": 21,
      "outputs": [
        {
          "output_type": "execute_result",
          "data": {
            "text/plain": [
              "                                             premise  \\\n",
              "0                   person horse jump break airplane   \n",
              "1                   person horse jump break airplane   \n",
              "2                   person horse jump break airplane   \n",
              "3                            child smile wave camera   \n",
              "4                            child smile wave camera   \n",
              "5                            child smile wave camera   \n",
              "6              boy jump skateboard middle red bridge   \n",
              "7              boy jump skateboard middle red bridge   \n",
              "8              boy jump skateboard middle red bridge   \n",
              "9  old man sit orange juice small table coffee sh...   \n",
              "\n",
              "                                   hypothesis  label  \n",
              "0              person train horse competition      1  \n",
              "1                 person diner order omelette      2  \n",
              "2                       person outdoors horse      0  \n",
              "3                                smile parent      1  \n",
              "4                               child present      0  \n",
              "5                                   kid frown      2  \n",
              "6                          boy skate sidewalk      2  \n",
              "7                        boy skateboard trick      0  \n",
              "8                   boy wear safety equipment      1  \n",
              "9  old man drink juice wait daughter get work      1  "
            ],
            "text/html": [
              "\n",
              "  <div id=\"df-0e0ff9c2-94de-44a3-b6b7-3d3691b5790a\" class=\"colab-df-container\">\n",
              "    <div>\n",
              "<style scoped>\n",
              "    .dataframe tbody tr th:only-of-type {\n",
              "        vertical-align: middle;\n",
              "    }\n",
              "\n",
              "    .dataframe tbody tr th {\n",
              "        vertical-align: top;\n",
              "    }\n",
              "\n",
              "    .dataframe thead th {\n",
              "        text-align: right;\n",
              "    }\n",
              "</style>\n",
              "<table border=\"1\" class=\"dataframe\">\n",
              "  <thead>\n",
              "    <tr style=\"text-align: right;\">\n",
              "      <th></th>\n",
              "      <th>premise</th>\n",
              "      <th>hypothesis</th>\n",
              "      <th>label</th>\n",
              "    </tr>\n",
              "  </thead>\n",
              "  <tbody>\n",
              "    <tr>\n",
              "      <th>0</th>\n",
              "      <td>person horse jump break airplane</td>\n",
              "      <td>person train horse competition</td>\n",
              "      <td>1</td>\n",
              "    </tr>\n",
              "    <tr>\n",
              "      <th>1</th>\n",
              "      <td>person horse jump break airplane</td>\n",
              "      <td>person diner order omelette</td>\n",
              "      <td>2</td>\n",
              "    </tr>\n",
              "    <tr>\n",
              "      <th>2</th>\n",
              "      <td>person horse jump break airplane</td>\n",
              "      <td>person outdoors horse</td>\n",
              "      <td>0</td>\n",
              "    </tr>\n",
              "    <tr>\n",
              "      <th>3</th>\n",
              "      <td>child smile wave camera</td>\n",
              "      <td>smile parent</td>\n",
              "      <td>1</td>\n",
              "    </tr>\n",
              "    <tr>\n",
              "      <th>4</th>\n",
              "      <td>child smile wave camera</td>\n",
              "      <td>child present</td>\n",
              "      <td>0</td>\n",
              "    </tr>\n",
              "    <tr>\n",
              "      <th>5</th>\n",
              "      <td>child smile wave camera</td>\n",
              "      <td>kid frown</td>\n",
              "      <td>2</td>\n",
              "    </tr>\n",
              "    <tr>\n",
              "      <th>6</th>\n",
              "      <td>boy jump skateboard middle red bridge</td>\n",
              "      <td>boy skate sidewalk</td>\n",
              "      <td>2</td>\n",
              "    </tr>\n",
              "    <tr>\n",
              "      <th>7</th>\n",
              "      <td>boy jump skateboard middle red bridge</td>\n",
              "      <td>boy skateboard trick</td>\n",
              "      <td>0</td>\n",
              "    </tr>\n",
              "    <tr>\n",
              "      <th>8</th>\n",
              "      <td>boy jump skateboard middle red bridge</td>\n",
              "      <td>boy wear safety equipment</td>\n",
              "      <td>1</td>\n",
              "    </tr>\n",
              "    <tr>\n",
              "      <th>9</th>\n",
              "      <td>old man sit orange juice small table coffee sh...</td>\n",
              "      <td>old man drink juice wait daughter get work</td>\n",
              "      <td>1</td>\n",
              "    </tr>\n",
              "  </tbody>\n",
              "</table>\n",
              "</div>\n",
              "    <div class=\"colab-df-buttons\">\n",
              "\n",
              "  <div class=\"colab-df-container\">\n",
              "    <button class=\"colab-df-convert\" onclick=\"convertToInteractive('df-0e0ff9c2-94de-44a3-b6b7-3d3691b5790a')\"\n",
              "            title=\"Convert this dataframe to an interactive table.\"\n",
              "            style=\"display:none;\">\n",
              "\n",
              "  <svg xmlns=\"http://www.w3.org/2000/svg\" height=\"24px\" viewBox=\"0 -960 960 960\">\n",
              "    <path d=\"M120-120v-720h720v720H120Zm60-500h600v-160H180v160Zm220 220h160v-160H400v160Zm0 220h160v-160H400v160ZM180-400h160v-160H180v160Zm440 0h160v-160H620v160ZM180-180h160v-160H180v160Zm440 0h160v-160H620v160Z\"/>\n",
              "  </svg>\n",
              "    </button>\n",
              "\n",
              "  <style>\n",
              "    .colab-df-container {\n",
              "      display:flex;\n",
              "      gap: 12px;\n",
              "    }\n",
              "\n",
              "    .colab-df-convert {\n",
              "      background-color: #E8F0FE;\n",
              "      border: none;\n",
              "      border-radius: 50%;\n",
              "      cursor: pointer;\n",
              "      display: none;\n",
              "      fill: #1967D2;\n",
              "      height: 32px;\n",
              "      padding: 0 0 0 0;\n",
              "      width: 32px;\n",
              "    }\n",
              "\n",
              "    .colab-df-convert:hover {\n",
              "      background-color: #E2EBFA;\n",
              "      box-shadow: 0px 1px 2px rgba(60, 64, 67, 0.3), 0px 1px 3px 1px rgba(60, 64, 67, 0.15);\n",
              "      fill: #174EA6;\n",
              "    }\n",
              "\n",
              "    .colab-df-buttons div {\n",
              "      margin-bottom: 4px;\n",
              "    }\n",
              "\n",
              "    [theme=dark] .colab-df-convert {\n",
              "      background-color: #3B4455;\n",
              "      fill: #D2E3FC;\n",
              "    }\n",
              "\n",
              "    [theme=dark] .colab-df-convert:hover {\n",
              "      background-color: #434B5C;\n",
              "      box-shadow: 0px 1px 3px 1px rgba(0, 0, 0, 0.15);\n",
              "      filter: drop-shadow(0px 1px 2px rgba(0, 0, 0, 0.3));\n",
              "      fill: #FFFFFF;\n",
              "    }\n",
              "  </style>\n",
              "\n",
              "    <script>\n",
              "      const buttonEl =\n",
              "        document.querySelector('#df-0e0ff9c2-94de-44a3-b6b7-3d3691b5790a button.colab-df-convert');\n",
              "      buttonEl.style.display =\n",
              "        google.colab.kernel.accessAllowed ? 'block' : 'none';\n",
              "\n",
              "      async function convertToInteractive(key) {\n",
              "        const element = document.querySelector('#df-0e0ff9c2-94de-44a3-b6b7-3d3691b5790a');\n",
              "        const dataTable =\n",
              "          await google.colab.kernel.invokeFunction('convertToInteractive',\n",
              "                                                    [key], {});\n",
              "        if (!dataTable) return;\n",
              "\n",
              "        const docLinkHtml = 'Like what you see? Visit the ' +\n",
              "          '<a target=\"_blank\" href=https://colab.research.google.com/notebooks/data_table.ipynb>data table notebook</a>'\n",
              "          + ' to learn more about interactive tables.';\n",
              "        element.innerHTML = '';\n",
              "        dataTable['output_type'] = 'display_data';\n",
              "        await google.colab.output.renderOutput(dataTable, element);\n",
              "        const docLink = document.createElement('div');\n",
              "        docLink.innerHTML = docLinkHtml;\n",
              "        element.appendChild(docLink);\n",
              "      }\n",
              "    </script>\n",
              "  </div>\n",
              "\n",
              "\n",
              "<div id=\"df-a5b96eff-174f-4165-b3da-0da9cdf98d6a\">\n",
              "  <button class=\"colab-df-quickchart\" onclick=\"quickchart('df-a5b96eff-174f-4165-b3da-0da9cdf98d6a')\"\n",
              "            title=\"Suggest charts\"\n",
              "            style=\"display:none;\">\n",
              "\n",
              "<svg xmlns=\"http://www.w3.org/2000/svg\" height=\"24px\"viewBox=\"0 0 24 24\"\n",
              "     width=\"24px\">\n",
              "    <g>\n",
              "        <path d=\"M19 3H5c-1.1 0-2 .9-2 2v14c0 1.1.9 2 2 2h14c1.1 0 2-.9 2-2V5c0-1.1-.9-2-2-2zM9 17H7v-7h2v7zm4 0h-2V7h2v10zm4 0h-2v-4h2v4z\"/>\n",
              "    </g>\n",
              "</svg>\n",
              "  </button>\n",
              "\n",
              "<style>\n",
              "  .colab-df-quickchart {\n",
              "      --bg-color: #E8F0FE;\n",
              "      --fill-color: #1967D2;\n",
              "      --hover-bg-color: #E2EBFA;\n",
              "      --hover-fill-color: #174EA6;\n",
              "      --disabled-fill-color: #AAA;\n",
              "      --disabled-bg-color: #DDD;\n",
              "  }\n",
              "\n",
              "  [theme=dark] .colab-df-quickchart {\n",
              "      --bg-color: #3B4455;\n",
              "      --fill-color: #D2E3FC;\n",
              "      --hover-bg-color: #434B5C;\n",
              "      --hover-fill-color: #FFFFFF;\n",
              "      --disabled-bg-color: #3B4455;\n",
              "      --disabled-fill-color: #666;\n",
              "  }\n",
              "\n",
              "  .colab-df-quickchart {\n",
              "    background-color: var(--bg-color);\n",
              "    border: none;\n",
              "    border-radius: 50%;\n",
              "    cursor: pointer;\n",
              "    display: none;\n",
              "    fill: var(--fill-color);\n",
              "    height: 32px;\n",
              "    padding: 0;\n",
              "    width: 32px;\n",
              "  }\n",
              "\n",
              "  .colab-df-quickchart:hover {\n",
              "    background-color: var(--hover-bg-color);\n",
              "    box-shadow: 0 1px 2px rgba(60, 64, 67, 0.3), 0 1px 3px 1px rgba(60, 64, 67, 0.15);\n",
              "    fill: var(--button-hover-fill-color);\n",
              "  }\n",
              "\n",
              "  .colab-df-quickchart-complete:disabled,\n",
              "  .colab-df-quickchart-complete:disabled:hover {\n",
              "    background-color: var(--disabled-bg-color);\n",
              "    fill: var(--disabled-fill-color);\n",
              "    box-shadow: none;\n",
              "  }\n",
              "\n",
              "  .colab-df-spinner {\n",
              "    border: 2px solid var(--fill-color);\n",
              "    border-color: transparent;\n",
              "    border-bottom-color: var(--fill-color);\n",
              "    animation:\n",
              "      spin 1s steps(1) infinite;\n",
              "  }\n",
              "\n",
              "  @keyframes spin {\n",
              "    0% {\n",
              "      border-color: transparent;\n",
              "      border-bottom-color: var(--fill-color);\n",
              "      border-left-color: var(--fill-color);\n",
              "    }\n",
              "    20% {\n",
              "      border-color: transparent;\n",
              "      border-left-color: var(--fill-color);\n",
              "      border-top-color: var(--fill-color);\n",
              "    }\n",
              "    30% {\n",
              "      border-color: transparent;\n",
              "      border-left-color: var(--fill-color);\n",
              "      border-top-color: var(--fill-color);\n",
              "      border-right-color: var(--fill-color);\n",
              "    }\n",
              "    40% {\n",
              "      border-color: transparent;\n",
              "      border-right-color: var(--fill-color);\n",
              "      border-top-color: var(--fill-color);\n",
              "    }\n",
              "    60% {\n",
              "      border-color: transparent;\n",
              "      border-right-color: var(--fill-color);\n",
              "    }\n",
              "    80% {\n",
              "      border-color: transparent;\n",
              "      border-right-color: var(--fill-color);\n",
              "      border-bottom-color: var(--fill-color);\n",
              "    }\n",
              "    90% {\n",
              "      border-color: transparent;\n",
              "      border-bottom-color: var(--fill-color);\n",
              "    }\n",
              "  }\n",
              "</style>\n",
              "\n",
              "  <script>\n",
              "    async function quickchart(key) {\n",
              "      const quickchartButtonEl =\n",
              "        document.querySelector('#' + key + ' button');\n",
              "      quickchartButtonEl.disabled = true;  // To prevent multiple clicks.\n",
              "      quickchartButtonEl.classList.add('colab-df-spinner');\n",
              "      try {\n",
              "        const charts = await google.colab.kernel.invokeFunction(\n",
              "            'suggestCharts', [key], {});\n",
              "      } catch (error) {\n",
              "        console.error('Error during call to suggestCharts:', error);\n",
              "      }\n",
              "      quickchartButtonEl.classList.remove('colab-df-spinner');\n",
              "      quickchartButtonEl.classList.add('colab-df-quickchart-complete');\n",
              "    }\n",
              "    (() => {\n",
              "      let quickchartButtonEl =\n",
              "        document.querySelector('#df-a5b96eff-174f-4165-b3da-0da9cdf98d6a button');\n",
              "      quickchartButtonEl.style.display =\n",
              "        google.colab.kernel.accessAllowed ? 'block' : 'none';\n",
              "    })();\n",
              "  </script>\n",
              "</div>\n",
              "\n",
              "    </div>\n",
              "  </div>\n"
            ],
            "application/vnd.google.colaboratory.intrinsic+json": {
              "type": "dataframe",
              "variable_name": "train_df"
            }
          },
          "metadata": {},
          "execution_count": 21
        }
      ]
    },
    {
      "cell_type": "code",
      "source": [
        "# Cek data sebelum preprocessing teks\n",
        "train_data_df = pd.DataFrame(train_data)\n",
        "train_data_df.head(10)"
      ],
      "metadata": {
        "colab": {
          "base_uri": "https://localhost:8080/",
          "height": 363
        },
        "id": "d3imNKqyoStK",
        "outputId": "e357bfb0-5fa6-4a50-f1c3-ce5bdc7d4361"
      },
      "execution_count": 22,
      "outputs": [
        {
          "output_type": "execute_result",
          "data": {
            "text/plain": [
              "                                             premise  \\\n",
              "0  A person on a horse jumps over a broken down a...   \n",
              "1  A person on a horse jumps over a broken down a...   \n",
              "2  A person on a horse jumps over a broken down a...   \n",
              "3              Children smiling and waving at camera   \n",
              "4              Children smiling and waving at camera   \n",
              "5              Children smiling and waving at camera   \n",
              "6  A boy is jumping on skateboard in the middle o...   \n",
              "7  A boy is jumping on skateboard in the middle o...   \n",
              "8  A boy is jumping on skateboard in the middle o...   \n",
              "9  An older man sits with his orange juice at a s...   \n",
              "\n",
              "                                          hypothesis  label  \n",
              "0  A person is training his horse for a competition.      1  \n",
              "1      A person is at a diner, ordering an omelette.      2  \n",
              "2                  A person is outdoors, on a horse.      0  \n",
              "3                  They are smiling at their parents      1  \n",
              "4                         There are children present      0  \n",
              "5                              The kids are frowning      2  \n",
              "6                  The boy skates down the sidewalk.      2  \n",
              "7                The boy does a skateboarding trick.      0  \n",
              "8               The boy is wearing safety equipment.      1  \n",
              "9  An older man drinks his juice as he waits for ...      1  "
            ],
            "text/html": [
              "\n",
              "  <div id=\"df-584c9323-c315-4fc6-86e0-c49daa830e6f\" class=\"colab-df-container\">\n",
              "    <div>\n",
              "<style scoped>\n",
              "    .dataframe tbody tr th:only-of-type {\n",
              "        vertical-align: middle;\n",
              "    }\n",
              "\n",
              "    .dataframe tbody tr th {\n",
              "        vertical-align: top;\n",
              "    }\n",
              "\n",
              "    .dataframe thead th {\n",
              "        text-align: right;\n",
              "    }\n",
              "</style>\n",
              "<table border=\"1\" class=\"dataframe\">\n",
              "  <thead>\n",
              "    <tr style=\"text-align: right;\">\n",
              "      <th></th>\n",
              "      <th>premise</th>\n",
              "      <th>hypothesis</th>\n",
              "      <th>label</th>\n",
              "    </tr>\n",
              "  </thead>\n",
              "  <tbody>\n",
              "    <tr>\n",
              "      <th>0</th>\n",
              "      <td>A person on a horse jumps over a broken down a...</td>\n",
              "      <td>A person is training his horse for a competition.</td>\n",
              "      <td>1</td>\n",
              "    </tr>\n",
              "    <tr>\n",
              "      <th>1</th>\n",
              "      <td>A person on a horse jumps over a broken down a...</td>\n",
              "      <td>A person is at a diner, ordering an omelette.</td>\n",
              "      <td>2</td>\n",
              "    </tr>\n",
              "    <tr>\n",
              "      <th>2</th>\n",
              "      <td>A person on a horse jumps over a broken down a...</td>\n",
              "      <td>A person is outdoors, on a horse.</td>\n",
              "      <td>0</td>\n",
              "    </tr>\n",
              "    <tr>\n",
              "      <th>3</th>\n",
              "      <td>Children smiling and waving at camera</td>\n",
              "      <td>They are smiling at their parents</td>\n",
              "      <td>1</td>\n",
              "    </tr>\n",
              "    <tr>\n",
              "      <th>4</th>\n",
              "      <td>Children smiling and waving at camera</td>\n",
              "      <td>There are children present</td>\n",
              "      <td>0</td>\n",
              "    </tr>\n",
              "    <tr>\n",
              "      <th>5</th>\n",
              "      <td>Children smiling and waving at camera</td>\n",
              "      <td>The kids are frowning</td>\n",
              "      <td>2</td>\n",
              "    </tr>\n",
              "    <tr>\n",
              "      <th>6</th>\n",
              "      <td>A boy is jumping on skateboard in the middle o...</td>\n",
              "      <td>The boy skates down the sidewalk.</td>\n",
              "      <td>2</td>\n",
              "    </tr>\n",
              "    <tr>\n",
              "      <th>7</th>\n",
              "      <td>A boy is jumping on skateboard in the middle o...</td>\n",
              "      <td>The boy does a skateboarding trick.</td>\n",
              "      <td>0</td>\n",
              "    </tr>\n",
              "    <tr>\n",
              "      <th>8</th>\n",
              "      <td>A boy is jumping on skateboard in the middle o...</td>\n",
              "      <td>The boy is wearing safety equipment.</td>\n",
              "      <td>1</td>\n",
              "    </tr>\n",
              "    <tr>\n",
              "      <th>9</th>\n",
              "      <td>An older man sits with his orange juice at a s...</td>\n",
              "      <td>An older man drinks his juice as he waits for ...</td>\n",
              "      <td>1</td>\n",
              "    </tr>\n",
              "  </tbody>\n",
              "</table>\n",
              "</div>\n",
              "    <div class=\"colab-df-buttons\">\n",
              "\n",
              "  <div class=\"colab-df-container\">\n",
              "    <button class=\"colab-df-convert\" onclick=\"convertToInteractive('df-584c9323-c315-4fc6-86e0-c49daa830e6f')\"\n",
              "            title=\"Convert this dataframe to an interactive table.\"\n",
              "            style=\"display:none;\">\n",
              "\n",
              "  <svg xmlns=\"http://www.w3.org/2000/svg\" height=\"24px\" viewBox=\"0 -960 960 960\">\n",
              "    <path d=\"M120-120v-720h720v720H120Zm60-500h600v-160H180v160Zm220 220h160v-160H400v160Zm0 220h160v-160H400v160ZM180-400h160v-160H180v160Zm440 0h160v-160H620v160ZM180-180h160v-160H180v160Zm440 0h160v-160H620v160Z\"/>\n",
              "  </svg>\n",
              "    </button>\n",
              "\n",
              "  <style>\n",
              "    .colab-df-container {\n",
              "      display:flex;\n",
              "      gap: 12px;\n",
              "    }\n",
              "\n",
              "    .colab-df-convert {\n",
              "      background-color: #E8F0FE;\n",
              "      border: none;\n",
              "      border-radius: 50%;\n",
              "      cursor: pointer;\n",
              "      display: none;\n",
              "      fill: #1967D2;\n",
              "      height: 32px;\n",
              "      padding: 0 0 0 0;\n",
              "      width: 32px;\n",
              "    }\n",
              "\n",
              "    .colab-df-convert:hover {\n",
              "      background-color: #E2EBFA;\n",
              "      box-shadow: 0px 1px 2px rgba(60, 64, 67, 0.3), 0px 1px 3px 1px rgba(60, 64, 67, 0.15);\n",
              "      fill: #174EA6;\n",
              "    }\n",
              "\n",
              "    .colab-df-buttons div {\n",
              "      margin-bottom: 4px;\n",
              "    }\n",
              "\n",
              "    [theme=dark] .colab-df-convert {\n",
              "      background-color: #3B4455;\n",
              "      fill: #D2E3FC;\n",
              "    }\n",
              "\n",
              "    [theme=dark] .colab-df-convert:hover {\n",
              "      background-color: #434B5C;\n",
              "      box-shadow: 0px 1px 3px 1px rgba(0, 0, 0, 0.15);\n",
              "      filter: drop-shadow(0px 1px 2px rgba(0, 0, 0, 0.3));\n",
              "      fill: #FFFFFF;\n",
              "    }\n",
              "  </style>\n",
              "\n",
              "    <script>\n",
              "      const buttonEl =\n",
              "        document.querySelector('#df-584c9323-c315-4fc6-86e0-c49daa830e6f button.colab-df-convert');\n",
              "      buttonEl.style.display =\n",
              "        google.colab.kernel.accessAllowed ? 'block' : 'none';\n",
              "\n",
              "      async function convertToInteractive(key) {\n",
              "        const element = document.querySelector('#df-584c9323-c315-4fc6-86e0-c49daa830e6f');\n",
              "        const dataTable =\n",
              "          await google.colab.kernel.invokeFunction('convertToInteractive',\n",
              "                                                    [key], {});\n",
              "        if (!dataTable) return;\n",
              "\n",
              "        const docLinkHtml = 'Like what you see? Visit the ' +\n",
              "          '<a target=\"_blank\" href=https://colab.research.google.com/notebooks/data_table.ipynb>data table notebook</a>'\n",
              "          + ' to learn more about interactive tables.';\n",
              "        element.innerHTML = '';\n",
              "        dataTable['output_type'] = 'display_data';\n",
              "        await google.colab.output.renderOutput(dataTable, element);\n",
              "        const docLink = document.createElement('div');\n",
              "        docLink.innerHTML = docLinkHtml;\n",
              "        element.appendChild(docLink);\n",
              "      }\n",
              "    </script>\n",
              "  </div>\n",
              "\n",
              "\n",
              "<div id=\"df-86615845-1953-45ef-abbc-9d19ec04f953\">\n",
              "  <button class=\"colab-df-quickchart\" onclick=\"quickchart('df-86615845-1953-45ef-abbc-9d19ec04f953')\"\n",
              "            title=\"Suggest charts\"\n",
              "            style=\"display:none;\">\n",
              "\n",
              "<svg xmlns=\"http://www.w3.org/2000/svg\" height=\"24px\"viewBox=\"0 0 24 24\"\n",
              "     width=\"24px\">\n",
              "    <g>\n",
              "        <path d=\"M19 3H5c-1.1 0-2 .9-2 2v14c0 1.1.9 2 2 2h14c1.1 0 2-.9 2-2V5c0-1.1-.9-2-2-2zM9 17H7v-7h2v7zm4 0h-2V7h2v10zm4 0h-2v-4h2v4z\"/>\n",
              "    </g>\n",
              "</svg>\n",
              "  </button>\n",
              "\n",
              "<style>\n",
              "  .colab-df-quickchart {\n",
              "      --bg-color: #E8F0FE;\n",
              "      --fill-color: #1967D2;\n",
              "      --hover-bg-color: #E2EBFA;\n",
              "      --hover-fill-color: #174EA6;\n",
              "      --disabled-fill-color: #AAA;\n",
              "      --disabled-bg-color: #DDD;\n",
              "  }\n",
              "\n",
              "  [theme=dark] .colab-df-quickchart {\n",
              "      --bg-color: #3B4455;\n",
              "      --fill-color: #D2E3FC;\n",
              "      --hover-bg-color: #434B5C;\n",
              "      --hover-fill-color: #FFFFFF;\n",
              "      --disabled-bg-color: #3B4455;\n",
              "      --disabled-fill-color: #666;\n",
              "  }\n",
              "\n",
              "  .colab-df-quickchart {\n",
              "    background-color: var(--bg-color);\n",
              "    border: none;\n",
              "    border-radius: 50%;\n",
              "    cursor: pointer;\n",
              "    display: none;\n",
              "    fill: var(--fill-color);\n",
              "    height: 32px;\n",
              "    padding: 0;\n",
              "    width: 32px;\n",
              "  }\n",
              "\n",
              "  .colab-df-quickchart:hover {\n",
              "    background-color: var(--hover-bg-color);\n",
              "    box-shadow: 0 1px 2px rgba(60, 64, 67, 0.3), 0 1px 3px 1px rgba(60, 64, 67, 0.15);\n",
              "    fill: var(--button-hover-fill-color);\n",
              "  }\n",
              "\n",
              "  .colab-df-quickchart-complete:disabled,\n",
              "  .colab-df-quickchart-complete:disabled:hover {\n",
              "    background-color: var(--disabled-bg-color);\n",
              "    fill: var(--disabled-fill-color);\n",
              "    box-shadow: none;\n",
              "  }\n",
              "\n",
              "  .colab-df-spinner {\n",
              "    border: 2px solid var(--fill-color);\n",
              "    border-color: transparent;\n",
              "    border-bottom-color: var(--fill-color);\n",
              "    animation:\n",
              "      spin 1s steps(1) infinite;\n",
              "  }\n",
              "\n",
              "  @keyframes spin {\n",
              "    0% {\n",
              "      border-color: transparent;\n",
              "      border-bottom-color: var(--fill-color);\n",
              "      border-left-color: var(--fill-color);\n",
              "    }\n",
              "    20% {\n",
              "      border-color: transparent;\n",
              "      border-left-color: var(--fill-color);\n",
              "      border-top-color: var(--fill-color);\n",
              "    }\n",
              "    30% {\n",
              "      border-color: transparent;\n",
              "      border-left-color: var(--fill-color);\n",
              "      border-top-color: var(--fill-color);\n",
              "      border-right-color: var(--fill-color);\n",
              "    }\n",
              "    40% {\n",
              "      border-color: transparent;\n",
              "      border-right-color: var(--fill-color);\n",
              "      border-top-color: var(--fill-color);\n",
              "    }\n",
              "    60% {\n",
              "      border-color: transparent;\n",
              "      border-right-color: var(--fill-color);\n",
              "    }\n",
              "    80% {\n",
              "      border-color: transparent;\n",
              "      border-right-color: var(--fill-color);\n",
              "      border-bottom-color: var(--fill-color);\n",
              "    }\n",
              "    90% {\n",
              "      border-color: transparent;\n",
              "      border-bottom-color: var(--fill-color);\n",
              "    }\n",
              "  }\n",
              "</style>\n",
              "\n",
              "  <script>\n",
              "    async function quickchart(key) {\n",
              "      const quickchartButtonEl =\n",
              "        document.querySelector('#' + key + ' button');\n",
              "      quickchartButtonEl.disabled = true;  // To prevent multiple clicks.\n",
              "      quickchartButtonEl.classList.add('colab-df-spinner');\n",
              "      try {\n",
              "        const charts = await google.colab.kernel.invokeFunction(\n",
              "            'suggestCharts', [key], {});\n",
              "      } catch (error) {\n",
              "        console.error('Error during call to suggestCharts:', error);\n",
              "      }\n",
              "      quickchartButtonEl.classList.remove('colab-df-spinner');\n",
              "      quickchartButtonEl.classList.add('colab-df-quickchart-complete');\n",
              "    }\n",
              "    (() => {\n",
              "      let quickchartButtonEl =\n",
              "        document.querySelector('#df-86615845-1953-45ef-abbc-9d19ec04f953 button');\n",
              "      quickchartButtonEl.style.display =\n",
              "        google.colab.kernel.accessAllowed ? 'block' : 'none';\n",
              "    })();\n",
              "  </script>\n",
              "</div>\n",
              "\n",
              "    </div>\n",
              "  </div>\n"
            ],
            "application/vnd.google.colaboratory.intrinsic+json": {
              "type": "dataframe",
              "variable_name": "train_data_df"
            }
          },
          "metadata": {},
          "execution_count": 22
        }
      ]
    },
    {
      "cell_type": "markdown",
      "source": [
        "### Rincian Proses"
      ],
      "metadata": {
        "id": "x-zS1MxREjrj"
      }
    },
    {
      "cell_type": "code",
      "source": [
        "# Contoh teks untuk diproses\n",
        "input_text = \"The quick brown fox jumps over the lazy dog 123!\"\n",
        "\n",
        "# Memanggil fungsi preprocess_text\n",
        "output_text = preprocess_text(input_text)\n",
        "\n",
        "# Menampilkan hasil\n",
        "print(\"Input Text:\", input_text)\n",
        "print(\"Output Text:\", output_text)"
      ],
      "metadata": {
        "colab": {
          "base_uri": "https://localhost:8080/"
        },
        "id": "YEWUt83PfHeP",
        "outputId": "259e0969-64bf-4e67-c63e-5c6486684dee"
      },
      "execution_count": 23,
      "outputs": [
        {
          "output_type": "stream",
          "name": "stdout",
          "text": [
            "Input Text: The quick brown fox jumps over the lazy dog 123!\n",
            "Output Text: quick brown fox jump lazy dog\n"
          ]
        }
      ]
    },
    {
      "cell_type": "markdown",
      "source": [
        "Rincian Proses\n",
        "1. **Lowercasing:**\n",
        "\n",
        "  Semua huruf diubah menjadi huruf kecil.\n",
        "2. **Remove numbers and punctuation:**\n",
        "\n",
        "  Angka \"123\" dan tanda baca dihapus.\n",
        "3. **Tokenization:**\n",
        "\n",
        "  Teks dipecah menjadi token:\n",
        "  ['the', 'quick', 'brown', 'fox', 'jumps', 'over', 'the', 'lazy', 'dog']\n",
        "4. **Remove stop words: **\n",
        "\n",
        "  Kata-kata umum yang tidak memberikan makna penting dihapus: ['quick', 'brown', 'fox', 'jumps', 'lazy', 'dog']\n",
        "\n",
        "5. **POS tagging and Lemmatization:**\n",
        "\n",
        "  Kata-kata di-lemmatize berdasarkan POS mereka, menghasilkan: ['quick', 'brown', 'fox', 'jump', 'lazy', 'dog']\n",
        "\n",
        "\n",
        "6. **Join tokens back into a single string:**\n",
        "\n",
        "  Token yang telah diproses digabung kembali menjadi string."
      ],
      "metadata": {
        "id": "zw-R8CQnhqy6"
      }
    },
    {
      "cell_type": "markdown",
      "source": [
        "# Embedding"
      ],
      "metadata": {
        "id": "mxFuxmV0Ykri"
      }
    },
    {
      "cell_type": "markdown",
      "source": [
        "## menentukan panjang maksimal (max_length) yang optimal"
      ],
      "metadata": {
        "id": "69jmhUoX9w3Y"
      }
    },
    {
      "cell_type": "code",
      "source": [
        "import pandas as pd\n",
        "\n",
        "# Tambahkan kolom panjang teks ke dataframe\n",
        "train_df['premise_length'] = train_df['premise'].apply(lambda x: len(x.split()))\n",
        "train_df['hypothesis_length'] = train_df['hypothesis'].apply(lambda x: len(x.split()))\n",
        "\n",
        "validation_df['premise_length'] = validation_df['premise'].apply(lambda x: len(x.split()))\n",
        "validation_df['hypothesis_length'] = validation_df['hypothesis'].apply(lambda x: len(x.split()))\n",
        "\n",
        "test_df['premise_length'] = test_df['premise'].apply(lambda x: len(x.split()))\n",
        "test_df['hypothesis_length'] = test_df['hypothesis'].apply(lambda x: len(x.split()))\n"
      ],
      "metadata": {
        "id": "fnmSx8Mp9wjx"
      },
      "execution_count": 24,
      "outputs": []
    },
    {
      "cell_type": "code",
      "source": [
        "# Gabungkan panjang teks premise dan hypothesis\n",
        "train_lengths = pd.concat([train_df['premise_length'], train_df['hypothesis_length']])\n",
        "\n",
        "# Statistik dasar\n",
        "print(train_lengths.describe())"
      ],
      "metadata": {
        "id": "eygS9aX994cQ",
        "colab": {
          "base_uri": "https://localhost:8080/"
        },
        "outputId": "15d57ae0-255b-4427-ae30-1e0a260c6256"
      },
      "execution_count": 25,
      "outputs": [
        {
          "output_type": "stream",
          "name": "stdout",
          "text": [
            "count    1.096234e+06\n",
            "mean     5.676553e+00\n",
            "std      3.023004e+00\n",
            "min      0.000000e+00\n",
            "25%      4.000000e+00\n",
            "50%      5.000000e+00\n",
            "75%      7.000000e+00\n",
            "max      4.500000e+01\n",
            "dtype: float64\n"
          ]
        }
      ]
    },
    {
      "cell_type": "code",
      "source": [
        "import matplotlib.pyplot as plt\n",
        "\n",
        "# Plot histogram panjang teks\n",
        "plt.figure(figsize=(10, 6))\n",
        "plt.hist(train_lengths, bins=50, color='blue', alpha=0.7, label='Train Text Lengths')\n",
        "plt.xlabel('Panjang Teks (Jumlah Kata)')\n",
        "plt.ylabel('Jumlah Teks')\n",
        "plt.title('Distribusi Panjang Teks')\n",
        "plt.legend()\n",
        "plt.show()\n"
      ],
      "metadata": {
        "id": "XWw0Wl6197lO",
        "colab": {
          "base_uri": "https://localhost:8080/",
          "height": 0
        },
        "outputId": "c10829c8-fdc5-4d13-adb8-c58aacc2517a"
      },
      "execution_count": 26,
      "outputs": [
        {
          "output_type": "display_data",
          "data": {
            "text/plain": [
              "<Figure size 1000x600 with 1 Axes>"
            ],
            "image/png": "[encoded data removed]"
          },
          "metadata": {}
        }
      ]
    },
    {
      "cell_type": "code",
      "source": [
        "# Hitung panjang pada persentil 95\n",
        "max_length = int(train_lengths.quantile(0.95))\n",
        "print(f\"Max Length (95th Percentile): {max_length}\")\n"
      ],
      "metadata": {
        "id": "Hvin8-_P99_K",
        "colab": {
          "base_uri": "https://localhost:8080/"
        },
        "outputId": "765fccaa-4b23-45b1-8b5d-206c02d5ffc1"
      },
      "execution_count": 27,
      "outputs": [
        {
          "output_type": "stream",
          "name": "stdout",
          "text": [
            "Max Length (95th Percentile): 11\n"
          ]
        }
      ]
    },
    {
      "cell_type": "markdown",
      "source": [
        "## Ekstraksi Premis, Hipotesis, dan Label pada data TRAIN"
      ],
      "metadata": {
        "id": "5Zma_sZL7cH8"
      }
    },
    {
      "cell_type": "markdown",
      "source": [
        "premise: Kalimat dasar.\n",
        "\n",
        "hypothesis: Klaim yang akan dibandingkan dengan premis.\n",
        "\n",
        "label: Kategori hubungan antara premis dan hipotesis."
      ],
      "metadata": {
        "id": "f9G8uhNX7jki"
      }
    },
    {
      "cell_type": "code",
      "source": [
        "train_premise = train_df['premise']\n",
        "train_hypothesis = train_df['hypothesis']\n",
        "train_labels = train_df['label']"
      ],
      "metadata": {
        "id": "LKHvsp1Z7iCW"
      },
      "execution_count": 28,
      "outputs": []
    },
    {
      "cell_type": "markdown",
      "source": [
        "## Embandding (Tokenisasi dan Padding)"
      ],
      "metadata": {
        "id": "F8metvkC7yDm"
      }
    },
    {
      "cell_type": "markdown",
      "source": [
        "Pertama, Anda perlu mempersiapkan data mentah menjadi format yang dapat dimasukkan ke dalam model. Ini melibatkan:\n",
        "\n",
        "Mengubah teks menjadi angka (tokenisasi).\n",
        "Membatasi jumlah kata berdasarkan frekuensi.\n",
        "Menyediakan padding untuk menyamakan panjang input."
      ],
      "metadata": {
        "id": "6sGsQfZA-Wz-"
      }
    },
    {
      "cell_type": "markdown",
      "source": [
        "### Unduh GloVe"
      ],
      "metadata": {
        "id": "M_GyTXZ4WI0V"
      }
    },
    {
      "cell_type": "code",
      "source": [
        "# !rm -f glove.6B.zip"
      ],
      "metadata": {
        "id": "1O0ynZ8HWxLY"
      },
      "execution_count": 29,
      "outputs": []
    },
    {
      "cell_type": "code",
      "source": [
        "# Mengunduh GloVe embeddings dari URL\n",
        "!wget http://nlp.stanford.edu/data/glove.6B.zip"
      ],
      "metadata": {
        "id": "LI4rIvIfCEkq",
        "colab": {
          "base_uri": "https://localhost:8080/"
        },
        "outputId": "fb051323-480d-45e8-af6e-558ede5f393c"
      },
      "execution_count": 30,
      "outputs": [
        {
          "output_type": "stream",
          "name": "stdout",
          "text": [
            "--2024-11-25 04:00:10--  http://nlp.stanford.edu/data/glove.6B.zip\n",
            "Resolving nlp.stanford.edu (nlp.stanford.edu)... 171.64.67.140\n",
            "Connecting to nlp.stanford.edu (nlp.stanford.edu)|171.64.67.140|:80... connected.\n",
            "HTTP request sent, awaiting response... 302 Found\n",
            "Location: https://nlp.stanford.edu/data/glove.6B.zip [following]\n",
            "--2024-11-25 04:00:10--  https://nlp.stanford.edu/data/glove.6B.zip\n",
            "Connecting to nlp.stanford.edu (nlp.stanford.edu)|171.64.67.140|:443... connected.\n",
            "HTTP request sent, awaiting response... 301 Moved Permanently\n",
            "Location: https://downloads.cs.stanford.edu/nlp/data/glove.6B.zip [following]\n",
            "--2024-11-25 04:00:10--  https://downloads.cs.stanford.edu/nlp/data/glove.6B.zip\n",
            "Resolving downloads.cs.stanford.edu (downloads.cs.stanford.edu)... 171.64.64.22\n",
            "Connecting to downloads.cs.stanford.edu (downloads.cs.stanford.edu)|171.64.64.22|:443... connected.\n",
            "HTTP request sent, awaiting response... 200 OK\n",
            "Length: 862182613 (822M) [application/zip]\n",
            "Saving to: ‘glove.6B.zip.1’\n",
            "\n",
            "glove.6B.zip.1      100%[===================>] 822.24M  4.99MB/s    in 2m 38s  \n",
            "\n",
            "2024-11-25 04:02:49 (5.19 MB/s) - ‘glove.6B.zip.1’ saved [862182613/862182613]\n",
            "\n"
          ]
        }
      ]
    },
    {
      "cell_type": "code",
      "source": [
        "!ls -lh glove.6B.zip"
      ],
      "metadata": {
        "id": "jIyX3UYPW9OV",
        "colab": {
          "base_uri": "https://localhost:8080/"
        },
        "outputId": "f2c8ace5-1408-412f-e6ce-675621a7f211"
      },
      "execution_count": 31,
      "outputs": [
        {
          "output_type": "stream",
          "name": "stdout",
          "text": [
            "-rw-r--r-- 1 root root 823M Oct 25  2015 glove.6B.zip\n"
          ]
        }
      ]
    },
    {
      "cell_type": "code",
      "source": [
        "# Mengekstrak file zip\n",
        "!unzip glove.6B.zip"
      ],
      "metadata": {
        "id": "GhdJkzUvV-te",
        "colab": {
          "base_uri": "https://localhost:8080/"
        },
        "outputId": "15523f0f-333b-4f87-e4e8-e57c7e4b4ca2"
      },
      "execution_count": 32,
      "outputs": [
        {
          "output_type": "stream",
          "name": "stdout",
          "text": [
            "Archive:  glove.6B.zip\n",
            "replace glove.6B.50d.txt? [y]es, [n]o, [A]ll, [N]one, [r]ename: "
          ]
        }
      ]
    },
    {
      "cell_type": "code",
      "source": [
        "!ls"
      ],
      "metadata": {
        "id": "2sxhoIOnVdCF",
        "colab": {
          "base_uri": "https://localhost:8080/"
        },
        "outputId": "c573e04f-6557-4a54-a411-033e7950da66"
      },
      "execution_count": 33,
      "outputs": [
        {
          "output_type": "stream",
          "name": "stdout",
          "text": [
            "glove.6B.100d.txt  glove.6B.300d.txt  glove.6B.zip    sample_data\n",
            "glove.6B.200d.txt  glove.6B.50d.txt   glove.6B.zip.1\n"
          ]
        }
      ]
    },
    {
      "cell_type": "markdown",
      "source": [
        "File embedding tersedia dalam dimensi berbeda:\n",
        "\n",
        "glove.6B.50d.txt (50 dimensi)\n",
        "\n",
        "glove.6B.100d.txt (100 dimensi)\n",
        "\n",
        "glove.6B.200d.txt (200 dimensi)\n",
        "\n",
        "glove.6B.300d.txt (300 dimensi)"
      ],
      "metadata": {
        "id": "RwpMXg2EXztx"
      }
    },
    {
      "cell_type": "code",
      "source": [
        "# Pilih file berdasarkan kebutuhan (300 dimensi)\n",
        "glove300_file_path = 'glove/glove.6B.300d.txt'"
      ],
      "metadata": {
        "id": "jNtJ7xREVibz"
      },
      "execution_count": 34,
      "outputs": []
    },
    {
      "cell_type": "markdown",
      "source": [
        "### Embendding dengan GloVe"
      ],
      "metadata": {
        "id": "hN94EtSW06Tq"
      }
    },
    {
      "cell_type": "code",
      "source": [
        "import numpy as np\n",
        "import pandas as pd\n",
        "from tensorflow.keras.preprocessing.text import Tokenizer\n",
        "from tensorflow.keras.preprocessing.sequence import pad_sequences\n",
        "\n",
        "# Memuat GloVe embeddings dari file --------------------------------------------\n",
        "def load_glove_embeddings(file_path): # memuat vektor kata dari file GloVe\n",
        "    embeddings_index = {} # menyimpannya dalam sebuah dictionary\n",
        "    with open(file_path, 'r', encoding='utf-8') as f:\n",
        "        for line in f:\n",
        "            values = line.split()\n",
        "            word = values[0]\n",
        "            coefs = np.asarray(values[1:], dtype='float32')\n",
        "            embeddings_index[word] = coefs\n",
        "    print(f\"Loaded {len(embeddings_index)} word vectors.\")\n",
        "    return embeddings_index\n",
        "\n",
        "# Tokenisasi dan Representasi Vektor -------------------------------------------\n",
        "# Fungsi untuk mengonversi teks ke dalam vektor menggunakan GloVe\n",
        "def get_glove_embeddings(texts, embeddings_index, max_len=20):\n",
        "    tokenizer = Tokenizer()\n",
        "    tokenizer.fit_on_texts(texts)\n",
        "    sequences = tokenizer.texts_to_sequences(texts)\n",
        "    word_index = tokenizer.word_index\n",
        "    data = pad_sequences(sequences, maxlen=max_len) # memastikan bahwa semua urutan memiliki panjang yang sama max_len=20\n",
        "\n",
        "    # Menyusun matriks embeddings\n",
        "    embedding_dim = 300  # Dimensi sesuai dengan GloVe yang dipilih\n",
        "    embedding_matrix = np.zeros((len(word_index) + 1, embedding_dim)) # Menyusun matriks embeddings\n",
        "\n",
        "    for word, i in word_index.items():\n",
        "        embedding_vector = embeddings_index.get(word)\n",
        "        if embedding_vector is not None:\n",
        "            embedding_matrix[i] = embedding_vector\n",
        "\n",
        "    return data, embedding_matrix, word_index\n",
        "\n",
        "# Memuat embeddings dari GloVe\n",
        "glove300_file_path = 'glove.6B.300d.txt'\n",
        "embeddings_index = load_glove_embeddings(glove300_file_path)\n",
        "\n",
        "# Mengonversi data teks menjadi vektor dengan GloVe\n",
        "# menggabungkan kolom premise dan hypothesis dari DataFrame menjadi satu string untuk setiap baris\n",
        "train_texts = train_df['premise'] + ' ' + train_df['hypothesis']\n",
        "validation_texts = validation_df['premise'] + ' ' + validation_df['hypothesis']\n",
        "test_texts = test_df['premise'] + ' ' + test_df['hypothesis']\n",
        "\n",
        "# Menampilkan Ukuran Data\n",
        "# X_train, X_val, X_test) yang berisi representasi vektor dari teks\n",
        "X_train, embedding_matrix, word_index = get_glove_embeddings(train_texts, embeddings_index)\n",
        "X_val, _, _ = get_glove_embeddings(validation_texts, embeddings_index)\n",
        "X_test, _, _ = get_glove_embeddings(test_texts, embeddings_index)\n",
        "\n",
        "# Menampilkan data dan ukuran embedding\n",
        "print(\"X_train shape:\", X_train.shape)\n",
        "print(\"Embedding X_train matrix shape:\", embedding_matrix.shape)\n",
        "\n",
        "print(\"X_val shape:\", X_val.shape)\n",
        "print(\"Embedding X_val matrix shape:\", embedding_matrix.shape)\n",
        "\n",
        "print(\"X_test shape:\", X_test.shape)\n",
        "print(\"Embedding X_test matrix shape:\", embedding_matrix.shape)\n"
      ],
      "metadata": {
        "id": "Qowegm9GVp2L",
        "colab": {
          "base_uri": "https://localhost:8080/"
        },
        "outputId": "1e8dba4e-d2f9-43f9-bfd9-96a470119972"
      },
      "execution_count": 36,
      "outputs": [
        {
          "output_type": "stream",
          "name": "stdout",
          "text": [
            "Loaded 400000 word vectors.\n",
            "X_train shape: (548117, 20)\n",
            "Embedding X_train matrix shape: (28801, 300)\n",
            "X_val shape: (9998, 20)\n",
            "Embedding X_val matrix shape: (28801, 300)\n",
            "X_test shape: (10000, 20)\n",
            "Embedding X_test matrix shape: (28801, 300)\n"
          ]
        }
      ]
    },
    {
      "cell_type": "code",
      "source": [
        "import pandas as pd\n",
        "\n",
        "# Memeriksa apakah DataFrame sudah didefinisikan\n",
        "for df_name in ['train_df', 'validation_df', 'test_df']:\n",
        "    try:\n",
        "        df = eval(df_name)  # Mengambil DataFrame berdasarkan nama\n",
        "        print(f\"{df_name} sudah didefinisikan.\")\n",
        "\n",
        "        # Memeriksa kolom yang ada\n",
        "        expected_columns = ['premise', 'hypothesis']\n",
        "        missing_columns = [col for col in expected_columns if col not in df.columns]\n",
        "\n",
        "        if missing_columns:\n",
        "            print(f\"{df_name} tidak memiliki kolom yang diperlukan: {missing_columns}\")\n",
        "        else:\n",
        "            print(f\"{df_name} memiliki kolom yang diperlukan.\")\n",
        "            print(f\"Contoh data dari {df_name}:\")\n",
        "            print(df.head())  # Menampilkan beberapa baris pertama dari DataFrame\n",
        "            print()  # Baris kosong untuk pemisahan output\n",
        "    except NameError:\n",
        "        print(f\"{df_name} belum didefinisikan.\")"
      ],
      "metadata": {
        "colab": {
          "base_uri": "https://localhost:8080/"
        },
        "id": "yX28k-5XLFY9",
        "outputId": "e30b946a-e713-4eb2-e01e-0dc135cee9ac"
      },
      "execution_count": 37,
      "outputs": [
        {
          "output_type": "stream",
          "name": "stdout",
          "text": [
            "train_df sudah didefinisikan.\n",
            "train_df memiliki kolom yang diperlukan.\n",
            "Contoh data dari train_df:\n",
            "                            premise                      hypothesis  label  \\\n",
            "0  person horse jump break airplane  person train horse competition      1   \n",
            "1  person horse jump break airplane     person diner order omelette      2   \n",
            "2  person horse jump break airplane           person outdoors horse      0   \n",
            "3           child smile wave camera                    smile parent      1   \n",
            "4           child smile wave camera                   child present      0   \n",
            "\n",
            "   premise_length  hypothesis_length  \n",
            "0               5                  4  \n",
            "1               5                  4  \n",
            "2               5                  3  \n",
            "3               4                  2  \n",
            "4               4                  2  \n",
            "\n",
            "validation_df sudah didefinisikan.\n",
            "validation_df memiliki kolom yang diperlukan.\n",
            "Contoh data dari validation_df:\n",
            "                                             premise  \\\n",
            "0                  two woman embrace hold go package   \n",
            "1                  two woman embrace hold go package   \n",
            "2                  two woman embrace hold go package   \n",
            "3  two young child blue jersey one number one num...   \n",
            "4  two young child blue jersey one number one num...   \n",
            "\n",
            "                                     hypothesis  label  premise_length  \\\n",
            "0  sister hug goodbye hold go package eat lunch      1               6   \n",
            "1                        two woman hold package      0               6   \n",
            "2                        men fight outside deli      2               6   \n",
            "3               two kid number jersey wash hand      0              16   \n",
            "4                    two kid ballgame wash hand      1              16   \n",
            "\n",
            "   hypothesis_length  \n",
            "0                  8  \n",
            "1                  4  \n",
            "2                  4  \n",
            "3                  6  \n",
            "4                  5  \n",
            "\n",
            "test_df sudah didefinisikan.\n",
            "test_df memiliki kolom yang diperlukan.\n",
            "Contoh data dari test_df:\n",
            "                                             premise  \\\n",
            "0  church choir sings mass sing joyous song book ...   \n",
            "1  church choir sings mass sing joyous song book ...   \n",
            "2  church choir sings mass sing joyous song book ...   \n",
            "3          woman green headscarf blue shirt big grin   \n",
            "4          woman green headscarf blue shirt big grin   \n",
            "\n",
            "                 hypothesis  label  premise_length  hypothesis_length  \n",
            "0      church crack ceiling      1               9                  3  \n",
            "1          church fill song      0               9                  3  \n",
            "2  choir sing baseball game      2               9                  4  \n",
            "3               woman young      1               7                  2  \n",
            "4               woman happy      0               7                  2  \n",
            "\n"
          ]
        }
      ]
    },
    {
      "cell_type": "markdown",
      "source": [
        "menunjukkan bahwa file GloVe berisi 400.000 vektor kata\n",
        "\n",
        "X_train berisi 549.605 contoh (baris), dan setiap contoh diwakili oleh urutan kata dengan panjang maksimum 50\n",
        "\n",
        "matriks embedding memiliki 35.523 kata yang ada dalam word_index yang digunakan di dataset Anda (termasuk token yang tidak ada dalam GloVe). Setiap kata diwakili oleh vektor dengan dimensi 300, sesuai dengan GloVe 300d yang Anda pilih."
      ],
      "metadata": {
        "id": "DYygkcN5p4DD"
      }
    },
    {
      "cell_type": "markdown",
      "source": [
        "Model LSTM (Encoder dan Decoder)"
      ],
      "metadata": {
        "id": "22kyC6PyCYT1"
      }
    },
    {
      "cell_type": "markdown",
      "source": [
        "Apa Itu Encoder dan Decoder?\n",
        "\n",
        "1. Encoder: Bagian dari model yang bertugas untuk menerima input (misalnya, urutan kata dalam kalimat) dan mengubahnya menjadi representasi tetap (atau konteks) yang dapat digunakan oleh bagian lain dari model. Encoder biasanya terdiri dari satu atau lebih lapisan LSTM yang memproses urutan input dan menghasilkan vektor konteks.\n",
        "\n",
        "2. Decoder: Bagian dari model yang menggunakan representasi tetap yang dihasilkan oleh encoder untuk menghasilkan output (misalnya, menerjemahkan kalimat ke bahasa lain). Decoder juga dapat menggunakan LSTM dan sering kali menghasilkan output urutan demi urutan."
      ],
      "metadata": {
        "id": "fag5FMOLZC2t"
      }
    },
    {
      "cell_type": "markdown",
      "source": [
        "# Encoder Layer LSTM"
      ],
      "metadata": {
        "id": "pUjUK1TdUmEr"
      }
    },
    {
      "cell_type": "code",
      "source": [],
      "metadata": {
        "id": "XUNMvmsDA_ai"
      },
      "execution_count": null,
      "outputs": []
    },
    {
      "cell_type": "markdown",
      "source": [
        "Bagaimana LSTM Digunakan dalam Encoder?\n",
        "\n",
        "1. Input Tokenisasi: Setelah melakukan tokenisasi, setiap kata dalam input diubah menjadi representasi numerik (misalnya, menggunakan embedding).\n",
        "\n",
        "2. Lapisan Encoder LSTM: Data yang telah di-embed dimasukkan ke dalam lapisan LSTM. LSTM ini memproses urutan input dan pada setiap langkah waktu, ia memperbarui status internalnya. Setelah memproses seluruh urutan, LSTM menghasilkan vektor konteks (state) yang mewakili informasi dari seluruh urutan input.\n",
        "\n",
        "3. Vektor Konteks: Vektor ini kemudian digunakan sebagai input untuk decoder."
      ],
      "metadata": {
        "id": "U7z6k6s0ZPwz"
      }
    },
    {
      "cell_type": "markdown",
      "source": [
        "`Input (X_train) --> [Embedding Layer] --> [LSTM Layer] --> [Dropout Layer] --> [Dense Layer (Output)]`"
      ],
      "metadata": {
        "id": "igYNyHxCA9ov"
      }
    },
    {
      "cell_type": "code",
      "source": [
        "from tensorflow.keras.utils import to_categorical\n",
        "\n",
        "# Mengonversi label menjadi one-hot encoding\n",
        "y_train = to_categorical(train_df['label'].values, num_classes=3)  # 3 kelas: 0, 1, 2\n",
        "y_val = to_categorical(validation_df['label'].values, num_classes=3)  # 3 kelas: 0, 1, 2"
      ],
      "metadata": {
        "id": "u_5zACzt_4NP"
      },
      "execution_count": 45,
      "outputs": []
    },
    {
      "cell_type": "markdown",
      "source": [
        "## Model 1"
      ],
      "metadata": {
        "id": "M_2hNdYXubbo"
      }
    },
    {
      "cell_type": "code",
      "source": [
        "import tensorflow as tf\n",
        "from tensorflow.keras.models import Sequential\n",
        "from tensorflow.keras.layers import Embedding, LSTM, Dense, Dropout\n",
        "\n",
        "# Parameter\n",
        "embedding_dim = 300  # Dimensi dari GloVe embeddings\n",
        "max_len = 20  # Panjang maksimum urutan (sama dengan yang digunakan saat padding)\n",
        "\n",
        "# Membangun model\n",
        "model = Sequential()\n",
        "\n",
        "# Menambahkan layer Embedding\n",
        "# Layer ini menggunakan matriks embeddings yang telah disiapkan\n",
        "model.add(Embedding(input_dim=len(embedding_matrix),\n",
        "                    output_dim=embedding_dim,\n",
        "                    weights=[embedding_matrix],\n",
        "                    input_length=max_len,\n",
        "                    trainable=False))  # trainable=False berarti tidak akan melatih ulang embeddings\n",
        "\n",
        "# Menambahkan layer LSTM\n",
        "model.add(LSTM(128, return_sequences=False))  # Anda bisa mengatur units sesuai kebutuhan\n",
        "\n",
        "# Menambahkan layer Dropout\n",
        "model.add(Dropout(0.5))  # Mengatur dropout rate (misalnya 50%)\n",
        "\n",
        "# Menambahkan layer Dense untuk output\n",
        "model.add(Dense(3, activation='softmax'))  # 3 kelas: 0, 1, 2\n",
        "\n",
        "# Mengompilasi model\n",
        "model.compile(loss='binary_crossentropy', optimizer='adam', metrics=['accuracy'])\n",
        "\n",
        "# Menampilkan ringkasan model\n",
        "model.summary()"
      ],
      "metadata": {
        "colab": {
          "base_uri": "https://localhost:8080/",
          "height": 257
        },
        "id": "UWIqwltyUlTO",
        "outputId": "913db7cf-b91b-45b6-a6cd-bf000ac0afc7"
      },
      "execution_count": 46,
      "outputs": [
        {
          "output_type": "display_data",
          "data": {
            "text/plain": [
              "\u001b[1mModel: \"sequential_2\"\u001b[0m\n"
            ],
            "text/html": [
              "<pre style=\"white-space:pre;overflow-x:auto;line-height:normal;font-family:Menlo,'DejaVu Sans Mono',consolas,'Courier New',monospace\"><span style=\"font-weight: bold\">Model: \"sequential_2\"</span>\n",
              "</pre>\n"
            ]
          },
          "metadata": {}
        },
        {
          "output_type": "display_data",
          "data": {
            "text/plain": [
              "┏━━━━━━━━━━━━━━━━━━━━━━━━━━━━━━━━━━━━━━┳━━━━━━━━━━━━━━━━━━━━━━━━━━━━━┳━━━━━━━━━━━━━━━━━┓\n",
              "┃\u001b[1m \u001b[0m\u001b[1mLayer (type)                        \u001b[0m\u001b[1m \u001b[0m┃\u001b[1m \u001b[0m\u001b[1mOutput Shape               \u001b[0m\u001b[1m \u001b[0m┃\u001b[1m \u001b[0m\u001b[1m        Param #\u001b[0m\u001b[1m \u001b[0m┃\n",
              "┡━━━━━━━━━━━━━━━━━━━━━━━━━━━━━━━━━━━━━━╇━━━━━━━━━━━━━━━━━━━━━━━━━━━━━╇━━━━━━━━━━━━━━━━━┩\n",
              "│ embedding_2 (\u001b[38;5;33mEmbedding\u001b[0m)              │ ?                           │       \u001b[38;5;34m8,640,300\u001b[0m │\n",
              "├──────────────────────────────────────┼─────────────────────────────┼─────────────────┤\n",
              "│ lstm_2 (\u001b[38;5;33mLSTM\u001b[0m)                        │ ?                           │     \u001b[38;5;34m0\u001b[0m (unbuilt) │\n",
              "├──────────────────────────────────────┼─────────────────────────────┼─────────────────┤\n",
              "│ dropout_1 (\u001b[38;5;33mDropout\u001b[0m)                  │ ?                           │     \u001b[38;5;34m0\u001b[0m (unbuilt) │\n",
              "├──────────────────────────────────────┼─────────────────────────────┼─────────────────┤\n",
              "│ dense_2 (\u001b[38;5;33mDense\u001b[0m)                      │ ?                           │     \u001b[38;5;34m0\u001b[0m (unbuilt) │\n",
              "└──────────────────────────────────────┴─────────────────────────────┴─────────────────┘\n"
            ],
            "text/html": [
              "<pre style=\"white-space:pre;overflow-x:auto;line-height:normal;font-family:Menlo,'DejaVu Sans Mono',consolas,'Courier New',monospace\">┏━━━━━━━━━━━━━━━━━━━━━━━━━━━━━━━━━━━━━━┳━━━━━━━━━━━━━━━━━━━━━━━━━━━━━┳━━━━━━━━━━━━━━━━━┓\n",
              "┃<span style=\"font-weight: bold\"> Layer (type)                         </span>┃<span style=\"font-weight: bold\"> Output Shape                </span>┃<span style=\"font-weight: bold\">         Param # </span>┃\n",
              "┡━━━━━━━━━━━━━━━━━━━━━━━━━━━━━━━━━━━━━━╇━━━━━━━━━━━━━━━━━━━━━━━━━━━━━╇━━━━━━━━━━━━━━━━━┩\n",
              "│ embedding_2 (<span style=\"color: #0087ff; text-decoration-color: #0087ff\">Embedding</span>)              │ ?                           │       <span style=\"color: #00af00; text-decoration-color: #00af00\">8,640,300</span> │\n",
              "├──────────────────────────────────────┼─────────────────────────────┼─────────────────┤\n",
              "│ lstm_2 (<span style=\"color: #0087ff; text-decoration-color: #0087ff\">LSTM</span>)                        │ ?                           │     <span style=\"color: #00af00; text-decoration-color: #00af00\">0</span> (unbuilt) │\n",
              "├──────────────────────────────────────┼─────────────────────────────┼─────────────────┤\n",
              "│ dropout_1 (<span style=\"color: #0087ff; text-decoration-color: #0087ff\">Dropout</span>)                  │ ?                           │     <span style=\"color: #00af00; text-decoration-color: #00af00\">0</span> (unbuilt) │\n",
              "├──────────────────────────────────────┼─────────────────────────────┼─────────────────┤\n",
              "│ dense_2 (<span style=\"color: #0087ff; text-decoration-color: #0087ff\">Dense</span>)                      │ ?                           │     <span style=\"color: #00af00; text-decoration-color: #00af00\">0</span> (unbuilt) │\n",
              "└──────────────────────────────────────┴─────────────────────────────┴─────────────────┘\n",
              "</pre>\n"
            ]
          },
          "metadata": {}
        },
        {
          "output_type": "display_data",
          "data": {
            "text/plain": [
              "\u001b[1m Total params: \u001b[0m\u001b[38;5;34m8,640,300\u001b[0m (32.96 MB)\n"
            ],
            "text/html": [
              "<pre style=\"white-space:pre;overflow-x:auto;line-height:normal;font-family:Menlo,'DejaVu Sans Mono',consolas,'Courier New',monospace\"><span style=\"font-weight: bold\"> Total params: </span><span style=\"color: #00af00; text-decoration-color: #00af00\">8,640,300</span> (32.96 MB)\n",
              "</pre>\n"
            ]
          },
          "metadata": {}
        },
        {
          "output_type": "display_data",
          "data": {
            "text/plain": [
              "\u001b[1m Trainable params: \u001b[0m\u001b[38;5;34m0\u001b[0m (0.00 B)\n"
            ],
            "text/html": [
              "<pre style=\"white-space:pre;overflow-x:auto;line-height:normal;font-family:Menlo,'DejaVu Sans Mono',consolas,'Courier New',monospace\"><span style=\"font-weight: bold\"> Trainable params: </span><span style=\"color: #00af00; text-decoration-color: #00af00\">0</span> (0.00 B)\n",
              "</pre>\n"
            ]
          },
          "metadata": {}
        },
        {
          "output_type": "display_data",
          "data": {
            "text/plain": [
              "\u001b[1m Non-trainable params: \u001b[0m\u001b[38;5;34m8,640,300\u001b[0m (32.96 MB)\n"
            ],
            "text/html": [
              "<pre style=\"white-space:pre;overflow-x:auto;line-height:normal;font-family:Menlo,'DejaVu Sans Mono',consolas,'Courier New',monospace\"><span style=\"font-weight: bold\"> Non-trainable params: </span><span style=\"color: #00af00; text-decoration-color: #00af00\">8,640,300</span> (32.96 MB)\n",
              "</pre>\n"
            ]
          },
          "metadata": {}
        }
      ]
    },
    {
      "cell_type": "code",
      "source": [
        "from tensorflow.keras.callbacks import EarlyStopping\n",
        "\n",
        "# Define the early stopping callback\n",
        "early_stopping = EarlyStopping(monitor='val_loss',\n",
        "                               mode='min',\n",
        "                               patience=5,\n",
        "                               restore_best_weights=True)\n",
        "\n",
        "# Train the model with early stopping\n",
        "history = model.fit(X_train, y_train,\n",
        "                    validation_data=(X_val, y_val),\n",
        "                    epochs=300,  # Set a high number of epochs\n",
        "                    batch_size=32,\n",
        "                    callbacks=[early_stopping])"
      ],
      "metadata": {
        "colab": {
          "base_uri": "https://localhost:8080/"
        },
        "id": "0XgMgd2OVb3N",
        "outputId": "1d3b3086-ff02-4684-ca4c-ed65c6a826de"
      },
      "execution_count": null,
      "outputs": [
        {
          "output_type": "stream",
          "name": "stdout",
          "text": [
            "Epoch 1/300\n",
            "\u001b[1m17129/17129\u001b[0m \u001b[32m━━━━━━━━━━━━━━━━━━━━\u001b[0m\u001b[37m\u001b[0m \u001b[1m851s\u001b[0m 49ms/step - accuracy: 0.5855 - loss: 0.5224 - val_accuracy: 0.4222 - val_loss: 0.6593\n",
            "Epoch 2/300\n",
            "\u001b[1m17129/17129\u001b[0m \u001b[32m━━━━━━━━━━━━━━━━━━━━\u001b[0m\u001b[37m\u001b[0m \u001b[1m853s\u001b[0m 49ms/step - accuracy: 0.6817 - loss: 0.4398 - val_accuracy: 0.4162 - val_loss: 0.6764\n",
            "Epoch 3/300\n",
            "\u001b[1m11404/17129\u001b[0m \u001b[32m━━━━━━━━━━━━━\u001b[0m\u001b[37m━━━━━━━\u001b[0m \u001b[1m4:39\u001b[0m 49ms/step - accuracy: 0.7038 - loss: 0.4167"
          ]
        }
      ]
    },
    {
      "cell_type": "code",
      "source": [
        "import matplotlib.pyplot as plt\n",
        "\n",
        "# Mengambil nilai loss dari history\n",
        "train_loss = history.history['loss']\n",
        "val_loss = history.history['val_loss']\n",
        "\n",
        "# Menggambar grafik loss\n",
        "plt.figure(figsize=(12, 5))\n",
        "\n",
        "# Grafik Loss\n",
        "plt.subplot(1, 2, 1)\n",
        "plt.plot(train_loss, label='Training Loss')\n",
        "plt.plot(val_loss, label='Validation Loss')\n",
        "plt.title('Loss Over Epochs')\n",
        "plt.xlabel('Epochs')\n",
        "plt.ylabel('Loss')\n",
        "plt.legend()\n",
        "\n",
        "# Jika Anda juga melacak akurasi, ambil nilai akurasi\n",
        "if 'accuracy' in history.history:\n",
        "    train_accuracy = history.history['accuracy']\n",
        "    val_accuracy = history.history['val_accuracy']\n",
        "\n",
        "    # Grafik Akurasi\n",
        "    plt.subplot(1, 2, 2)\n",
        "    plt.plot(train_accuracy, label='Training Accuracy')\n",
        "    plt.plot(val_accuracy, label='Validation Accuracy')\n",
        "    plt.title('Accuracy Over Epochs')\n",
        "    plt.xlabel('Epochs')\n",
        "    plt.ylabel('Accuracy')\n",
        "    plt.legend()\n",
        "\n",
        "plt.tight_layout()\n",
        "plt.show()"
      ],
      "metadata": {
        "colab": {
          "base_uri": "https://localhost:8080/",
          "height": 219
        },
        "id": "5h-FXU5klAgR",
        "outputId": "0e44dae2-01b6-4b72-f664-19b91049b02c"
      },
      "execution_count": 43,
      "outputs": [
        {
          "output_type": "error",
          "ename": "NameError",
          "evalue": "name 'history' is not defined",
          "traceback": [
            "\u001b[0;31m---------------------------------------------------------------------------\u001b[0m",
            "\u001b[0;31mNameError\u001b[0m                                 Traceback (most recent call last)",
            "\u001b[0;32m<ipython-input-43-9ab7928f2e5c>\u001b[0m in \u001b[0;36m<cell line: 4>\u001b[0;34m()\u001b[0m\n\u001b[1;32m      2\u001b[0m \u001b[0;34m\u001b[0m\u001b[0m\n\u001b[1;32m      3\u001b[0m \u001b[0;31m# Mengambil nilai loss dari history\u001b[0m\u001b[0;34m\u001b[0m\u001b[0;34m\u001b[0m\u001b[0m\n\u001b[0;32m----> 4\u001b[0;31m \u001b[0mtrain_loss\u001b[0m \u001b[0;34m=\u001b[0m \u001b[0mhistory\u001b[0m\u001b[0;34m.\u001b[0m\u001b[0mhistory\u001b[0m\u001b[0;34m[\u001b[0m\u001b[0;34m'loss'\u001b[0m\u001b[0;34m]\u001b[0m\u001b[0;34m\u001b[0m\u001b[0;34m\u001b[0m\u001b[0m\n\u001b[0m\u001b[1;32m      5\u001b[0m \u001b[0mval_loss\u001b[0m \u001b[0;34m=\u001b[0m \u001b[0mhistory\u001b[0m\u001b[0;34m.\u001b[0m\u001b[0mhistory\u001b[0m\u001b[0;34m[\u001b[0m\u001b[0;34m'val_loss'\u001b[0m\u001b[0;34m]\u001b[0m\u001b[0;34m\u001b[0m\u001b[0;34m\u001b[0m\u001b[0m\n\u001b[1;32m      6\u001b[0m \u001b[0;34m\u001b[0m\u001b[0m\n",
            "\u001b[0;31mNameError\u001b[0m: name 'history' is not defined"
          ]
        }
      ]
    },
    {
      "cell_type": "code",
      "source": [
        "# 3. PENGUJIAN MODEL---------------------------------------------------------------\n",
        "\n",
        "from sklearn.metrics import accuracy_score, classification_report, confusion_matrix\n",
        "\n",
        "# Assuming you have your test data as X_test and y_test\n",
        "y_pred = model.predict(X_test)\n",
        "\n",
        "# Calculate accuracy\n",
        "accuracy = accuracy_score(y_test, y_pred)\n",
        "print(f'Accuracy: {accuracy:.2f}')\n",
        "\n",
        "# Generate a classification report\n",
        "print(classification_report(y_test, y_pred))\n",
        "\n",
        "# Confusion matrix\n",
        "conf_matrix = confusion_matrix(y_test, y_pred)\n",
        "print('Confusion Matrix:')\n",
        "print(conf_matrix)"
      ],
      "metadata": {
        "id": "8nPU2SkYZu4e"
      },
      "execution_count": null,
      "outputs": []
    }
  ]
}